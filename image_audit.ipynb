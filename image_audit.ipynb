{
 "cells": [
  {
   "cell_type": "code",
   "execution_count": 99,
   "metadata": {},
   "outputs": [],
   "source": [
    "import os\n",
    "import cv2\n",
    "from IPython.display import display, clear_output\n",
    "import numpy as np"
   ]
  },
  {
   "cell_type": "code",
   "execution_count": null,
   "metadata": {},
   "outputs": [],
   "source": []
  },
  {
   "cell_type": "code",
   "execution_count": 100,
   "metadata": {},
   "outputs": [],
   "source": [
    "train_imgs = os.listdir('data/train')\n",
    "test_imgs = os.listdir('data/test')"
   ]
  },
  {
   "cell_type": "code",
   "execution_count": 101,
   "metadata": {},
   "outputs": [
    {
     "name": "stdout",
     "output_type": "stream",
     "text": [
      "Train images in directory: 16873\n",
      "Test images in directory: 496\n"
     ]
    }
   ],
   "source": [
    "print(\"Train images in directory: {}\".format(len(train_imgs)))\n",
    "print(\"Test images in directory: {}\".format(len(test_imgs)))"
   ]
  },
  {
   "cell_type": "code",
   "execution_count": 102,
   "metadata": {},
   "outputs": [],
   "source": [
    "train_file = open('labels/train_COVIDx8A.txt', 'r')\n",
    "test_file = open('labels/test_COVIDx8A.txt', 'r')"
   ]
  },
  {
   "cell_type": "code",
   "execution_count": 103,
   "metadata": {},
   "outputs": [
    {
     "name": "stdout",
     "output_type": "stream",
     "text": [
      "Train images listed in file: 15599\n",
      "Test images listed in file: 400\n"
     ]
    }
   ],
   "source": [
    "train_lines = train_file.readlines()\n",
    "test_lines = test_file.readlines()\n",
    "print(\"Train images listed in file: {}\".format(len(train_lines)))\n",
    "print(\"Test images listed in file: {}\".format(len(test_lines)))"
   ]
  },
  {
   "cell_type": "code",
   "execution_count": 104,
   "metadata": {},
   "outputs": [
    {
     "data": {
      "text/plain": [
       "'Found: 15599'"
      ]
     },
     "metadata": {},
     "output_type": "display_data"
    },
    {
     "data": {
      "text/plain": [
       "'Not found: 0'"
      ]
     },
     "metadata": {},
     "output_type": "display_data"
    }
   ],
   "source": [
    "nf = 0\n",
    "nf_list = []\n",
    "f = 0\n",
    "for line in train_lines:\n",
    "    img_path = os.path.join('data/train', line.split(' ')[-3])\n",
    "    if type(cv2.imread(img_path)) is np.ndarray:\n",
    "        f += 1\n",
    "    else:\n",
    "        nf += 1\n",
    "        nf_list.append(img_path)\n",
    "    clear_output(wait=True)\n",
    "    #display(type(cv2.imread(img_path)))\n",
    "    display('Found: {}'.format(f))\n",
    "    display('Not found: {}'.format(nf))"
   ]
  },
  {
   "cell_type": "code",
   "execution_count": 105,
   "metadata": {},
   "outputs": [
    {
     "data": {
      "text/plain": [
       "[]"
      ]
     },
     "execution_count": 105,
     "metadata": {},
     "output_type": "execute_result"
    }
   ],
   "source": [
    "nf_list"
   ]
  },
  {
   "cell_type": "code",
   "execution_count": 106,
   "metadata": {},
   "outputs": [
    {
     "data": {
      "text/plain": [
       "'Found: 400'"
      ]
     },
     "metadata": {},
     "output_type": "display_data"
    },
    {
     "data": {
      "text/plain": [
       "'Not found: 0'"
      ]
     },
     "metadata": {},
     "output_type": "display_data"
    }
   ],
   "source": [
    "nf = 0\n",
    "nf_list = []\n",
    "f = 0\n",
    "for line in test_lines:\n",
    "    img_path = os.path.join('data/test', line.split(' ')[-3])\n",
    "    if type(cv2.imread(img_path)) is np.ndarray:\n",
    "        f += 1\n",
    "    else:\n",
    "        nf += 1\n",
    "        nf_list.append(img_path)\n",
    "    clear_output(wait=True)\n",
    "    #display(type(cv2.imread(img_path)))\n",
    "    display('Found: {}'.format(f))\n",
    "    display('Not found: {}'.format(nf))"
   ]
  },
  {
   "cell_type": "code",
   "execution_count": 107,
   "metadata": {},
   "outputs": [
    {
     "data": {
      "text/plain": [
       "[]"
      ]
     },
     "execution_count": 107,
     "metadata": {},
     "output_type": "execute_result"
    }
   ],
   "source": [
    "nf_list"
   ]
  },
  {
   "cell_type": "code",
   "execution_count": 108,
   "metadata": {},
   "outputs": [
    {
     "data": {
      "text/plain": [
       "17369"
      ]
     },
     "execution_count": 108,
     "metadata": {},
     "output_type": "execute_result"
    }
   ],
   "source": [
    "16873+496"
   ]
  },
  {
   "cell_type": "code",
   "execution_count": 109,
   "metadata": {},
   "outputs": [
    {
     "data": {
      "text/plain": [
       "15999"
      ]
     },
     "execution_count": 109,
     "metadata": {},
     "output_type": "execute_result"
    }
   ],
   "source": [
    "15599+400"
   ]
  },
  {
   "cell_type": "code",
   "execution_count": null,
   "metadata": {},
   "outputs": [],
   "source": []
  }
 ],
 "metadata": {
  "kernelspec": {
   "display_name": "Python 3",
   "language": "python",
   "name": "python3"
  },
  "language_info": {
   "codemirror_mode": {
    "name": "ipython",
    "version": 3
   },
   "file_extension": ".py",
   "mimetype": "text/x-python",
   "name": "python",
   "nbconvert_exporter": "python",
   "pygments_lexer": "ipython3",
   "version": "3.7.4"
  }
 },
 "nbformat": 4,
 "nbformat_minor": 4
}
