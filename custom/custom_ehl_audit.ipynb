{
 "cells": [
  {
   "cell_type": "code",
   "execution_count": 1,
   "metadata": {},
   "outputs": [],
   "source": [
    "import pandas as pd\n",
    "import os\n",
    "import cv2\n",
    "import glob\n",
    "from IPython.display import display, clear_output"
   ]
  },
  {
   "cell_type": "code",
   "execution_count": 2,
   "metadata": {},
   "outputs": [],
   "source": [
    "def format_condition(cond):\n",
    "    if cond == 'Normal':\n",
    "        return 'normal'\n",
    "    elif cond == 'Pneumonia':\n",
    "        return 'pneumonia'\n",
    "    return cond\n",
    "\n",
    "def format_condition_back(cond):\n",
    "    if cond == 'normal':\n",
    "        return 'Normal'\n",
    "    elif cond == 'pneumonia':\n",
    "        return 'Pneumonia'\n",
    "    return cond"
   ]
  },
  {
   "cell_type": "code",
   "execution_count": 3,
   "metadata": {},
   "outputs": [],
   "source": [
    "df_ehl = pd.DataFrame(columns=['id', 'type', 'source', 'condition', 'path'], dtype=object)\n",
    "\n",
    "for split in ['train', 'test']:\n",
    "    for cond in ['COVID-19', 'Pneumonia', 'Normal']:\n",
    "        for filename in glob.glob('ehl_data/{}/{}/*.*'.format(split, cond)):\n",
    "            if filename.endswith(('.jpg', '.jpeg', '.png')):\n",
    "                df_ehl = df_ehl.append({'id': '{}_{}_{}'.format(split, cond, os.path.basename(filename)),\n",
    "                                        'type': split,\n",
    "                                        'source': 'ehl',\n",
    "                                        'condition': format_condition(cond),\n",
    "                                        'path': os.path.basename(filename)}, ignore_index=True)"
   ]
  },
  {
   "cell_type": "code",
   "execution_count": 6,
   "metadata": {},
   "outputs": [
    {
     "data": {
      "text/html": [
       "<div>\n",
       "<style scoped>\n",
       "    .dataframe tbody tr th:only-of-type {\n",
       "        vertical-align: middle;\n",
       "    }\n",
       "\n",
       "    .dataframe tbody tr th {\n",
       "        vertical-align: top;\n",
       "    }\n",
       "\n",
       "    .dataframe thead th {\n",
       "        text-align: right;\n",
       "    }\n",
       "</style>\n",
       "<table border=\"1\" class=\"dataframe\">\n",
       "  <thead>\n",
       "    <tr style=\"text-align: right;\">\n",
       "      <th></th>\n",
       "      <th></th>\n",
       "      <th>id</th>\n",
       "    </tr>\n",
       "    <tr>\n",
       "      <th>type</th>\n",
       "      <th>condition</th>\n",
       "      <th></th>\n",
       "    </tr>\n",
       "  </thead>\n",
       "  <tbody>\n",
       "    <tr>\n",
       "      <td rowspan=\"3\" valign=\"top\">test</td>\n",
       "      <td>COVID-19</td>\n",
       "      <td>100</td>\n",
       "    </tr>\n",
       "    <tr>\n",
       "      <td>normal</td>\n",
       "      <td>1700</td>\n",
       "    </tr>\n",
       "    <tr>\n",
       "      <td>pneumonia</td>\n",
       "      <td>97</td>\n",
       "    </tr>\n",
       "    <tr>\n",
       "      <td rowspan=\"3\" valign=\"top\">train</td>\n",
       "      <td>COVID-19</td>\n",
       "      <td>189</td>\n",
       "    </tr>\n",
       "    <tr>\n",
       "      <td>normal</td>\n",
       "      <td>198</td>\n",
       "    </tr>\n",
       "    <tr>\n",
       "      <td>pneumonia</td>\n",
       "      <td>21</td>\n",
       "    </tr>\n",
       "  </tbody>\n",
       "</table>\n",
       "</div>"
      ],
      "text/plain": [
       "                   id\n",
       "type  condition      \n",
       "test  COVID-19    100\n",
       "      normal     1700\n",
       "      pneumonia    97\n",
       "train COVID-19    189\n",
       "      normal      198\n",
       "      pneumonia    21"
      ]
     },
     "execution_count": 6,
     "metadata": {},
     "output_type": "execute_result"
    }
   ],
   "source": [
    "df_ehl.groupby(['type', 'condition']).agg({\n",
    "    'id': 'count'\n",
    "})"
   ]
  },
  {
   "cell_type": "code",
   "execution_count": 4,
   "metadata": {},
   "outputs": [
    {
     "name": "stderr",
     "output_type": "stream",
     "text": [
      "/Users/gisli/opt/anaconda3/lib/python3.7/site-packages/ipykernel_launcher.py:1: ParserWarning: Falling back to the 'python' engine because the 'c' engine does not support regex separators (separators > 1 char and different from '\\s+' are interpreted as regex); you can avoid this warning by specifying engine='python'.\n",
      "  \"\"\"Entry point for launching an IPython kernel.\n",
      "/Users/gisli/opt/anaconda3/lib/python3.7/site-packages/ipykernel_launcher.py:5: ParserWarning: Falling back to the 'python' engine because the 'c' engine does not support regex separators (separators > 1 char and different from '\\s+' are interpreted as regex); you can avoid this warning by specifying engine='python'.\n",
      "  \"\"\"\n",
      "/Users/gisli/opt/anaconda3/lib/python3.7/site-packages/numpy/core/fromnumeric.py:87: VisibleDeprecationWarning: Creating an ndarray from ragged nested sequences (which is a list-or-tuple of lists-or-tuples-or ndarrays with different lengths or shapes) is deprecated. If you meant to do this, you must specify 'dtype=object' when creating the ndarray.\n",
      "  return ufunc.reduce(obj, axis, dtype, out, **passkwargs)\n"
     ]
    }
   ],
   "source": [
    "data = pd.read_csv('labels/train_COVIDx8A.txt', sep=\"GGGG\", header=None)\n",
    "data.columns = [\"line\"]\n",
    "data['type'] = 'train'\n",
    "\n",
    "data1 = pd.read_csv('labels/test_COVIDx8A.txt', sep=\"GGGG\", header=None)\n",
    "data1.columns = [\"line\"]\n",
    "data1['type'] = 'test'\n",
    "\n",
    "df_covidx = pd.concat([data, data1])\n",
    "\n",
    "df_covidx['source'] = df_covidx['line'].apply(lambda x: x.split(' ')[-1])\n",
    "df_covidx['condition'] = df_covidx['line'].apply(lambda x: x.split(' ')[-2])\n",
    "df_covidx['path'] = df_covidx['line'].apply(lambda x: x.split(' ')[-3])\n",
    "df_covidx['id'] = df_covidx['source'].str.cat(df_covidx['path'])"
   ]
  },
  {
   "cell_type": "code",
   "execution_count": 5,
   "metadata": {},
   "outputs": [
    {
     "data": {
      "text/html": [
       "<div>\n",
       "<style scoped>\n",
       "    .dataframe tbody tr th:only-of-type {\n",
       "        vertical-align: middle;\n",
       "    }\n",
       "\n",
       "    .dataframe tbody tr th {\n",
       "        vertical-align: top;\n",
       "    }\n",
       "\n",
       "    .dataframe thead th {\n",
       "        text-align: right;\n",
       "    }\n",
       "</style>\n",
       "<table border=\"1\" class=\"dataframe\">\n",
       "  <thead>\n",
       "    <tr style=\"text-align: right;\">\n",
       "      <th></th>\n",
       "      <th>id</th>\n",
       "      <th>type</th>\n",
       "      <th>source</th>\n",
       "      <th>condition</th>\n",
       "      <th>path</th>\n",
       "    </tr>\n",
       "  </thead>\n",
       "  <tbody>\n",
       "    <tr>\n",
       "      <td>3</td>\n",
       "      <td>train_COVID-19_covid-19-pneumonia-22-day2-pa.png</td>\n",
       "      <td>train</td>\n",
       "      <td>ehl</td>\n",
       "      <td>COVID-19</td>\n",
       "      <td>covid-19-pneumonia-22-day2-pa.png</td>\n",
       "    </tr>\n",
       "  </tbody>\n",
       "</table>\n",
       "</div>"
      ],
      "text/plain": [
       "                                                 id   type source condition  \\\n",
       "3  train_COVID-19_covid-19-pneumonia-22-day2-pa.png  train    ehl  COVID-19   \n",
       "\n",
       "                                path  \n",
       "3  covid-19-pneumonia-22-day2-pa.png  "
      ]
     },
     "execution_count": 5,
     "metadata": {},
     "output_type": "execute_result"
    }
   ],
   "source": [
    "df_ehl[df_ehl['path'] == 'covid-19-pneumonia-22-day2-pa.png']"
   ]
  },
  {
   "cell_type": "code",
   "execution_count": 6,
   "metadata": {},
   "outputs": [
    {
     "data": {
      "text/html": [
       "<div>\n",
       "<style scoped>\n",
       "    .dataframe tbody tr th:only-of-type {\n",
       "        vertical-align: middle;\n",
       "    }\n",
       "\n",
       "    .dataframe tbody tr th {\n",
       "        vertical-align: top;\n",
       "    }\n",
       "\n",
       "    .dataframe thead th {\n",
       "        text-align: right;\n",
       "    }\n",
       "</style>\n",
       "<table border=\"1\" class=\"dataframe\">\n",
       "  <thead>\n",
       "    <tr style=\"text-align: right;\">\n",
       "      <th></th>\n",
       "      <th>line</th>\n",
       "      <th>type</th>\n",
       "      <th>source</th>\n",
       "      <th>condition</th>\n",
       "      <th>path</th>\n",
       "      <th>id</th>\n",
       "    </tr>\n",
       "  </thead>\n",
       "  <tbody>\n",
       "    <tr>\n",
       "      <td>152</td>\n",
       "      <td>164 covid-19-pneumonia-22-day2-pa.png COVID-19...</td>\n",
       "      <td>train</td>\n",
       "      <td>cohen</td>\n",
       "      <td>COVID-19</td>\n",
       "      <td>covid-19-pneumonia-22-day2-pa.png</td>\n",
       "      <td>cohencovid-19-pneumonia-22-day2-pa.png</td>\n",
       "    </tr>\n",
       "  </tbody>\n",
       "</table>\n",
       "</div>"
      ],
      "text/plain": [
       "                                                  line   type source  \\\n",
       "152  164 covid-19-pneumonia-22-day2-pa.png COVID-19...  train  cohen   \n",
       "\n",
       "    condition                               path  \\\n",
       "152  COVID-19  covid-19-pneumonia-22-day2-pa.png   \n",
       "\n",
       "                                         id  \n",
       "152  cohencovid-19-pneumonia-22-day2-pa.png  "
      ]
     },
     "execution_count": 6,
     "metadata": {},
     "output_type": "execute_result"
    }
   ],
   "source": [
    "df_covidx[df_covidx['path'] == 'covid-19-pneumonia-22-day2-pa.png']"
   ]
  },
  {
   "cell_type": "code",
   "execution_count": 7,
   "metadata": {},
   "outputs": [],
   "source": [
    "def get_resolutions_ehl(image):\n",
    "    img_path = os.path.join('ehl_data/{}/{}'.format(image['type'], format_condition_back(image['condition'])), image['path'])\n",
    "    img = cv2.imread(img_path)\n",
    "    return \"{} {}\".format(img.shape[0], img.shape[1])\n",
    "\n",
    "def get_resolutions_covidx(image):\n",
    "    img_path = os.path.join('data/{}'.format(image['type']), image['path'])\n",
    "    img = cv2.imread(img_path)\n",
    "    return \"{} {}\".format(img.shape[0], img.shape[1])"
   ]
  },
  {
   "cell_type": "code",
   "execution_count": 8,
   "metadata": {},
   "outputs": [],
   "source": [
    "df_ehl['resolutions'] = df_ehl.apply(get_resolutions_ehl, axis=1)\n",
    "df_covidx['resolutions'] = df_covidx.apply(get_resolutions_covidx, axis=1)"
   ]
  },
  {
   "cell_type": "code",
   "execution_count": 9,
   "metadata": {},
   "outputs": [
    {
     "data": {
      "text/plain": [
       "'Finished 2305/2305. Duplicates found: 102.'"
      ]
     },
     "metadata": {},
     "output_type": "display_data"
    }
   ],
   "source": [
    "duplicates = pd.DataFrame(columns=['id', 'type', 'source', 'condition', 'path'], dtype=object)\n",
    "total_images = df_ehl.shape[0]\n",
    "\n",
    "for i, row_ehl in df_ehl.iterrows():\n",
    "    ehl_path = os.path.join('ehl_data/{}/{}'.format(row_ehl['type'], format_condition_back(row_ehl['condition'])), row_ehl['path'])\n",
    "    ehl_img = cv2.imread(ehl_path)\n",
    "    temp = df_covidx[df_covidx['resolutions'] == row_ehl['resolutions']].copy()\n",
    "    for j, row_covidx in temp.iterrows():\n",
    "        covidx_path = os.path.join('data/{}'.format(row_covidx['type']), row_covidx['path'])\n",
    "        covidx_img = cv2.imread(covidx_path)\n",
    "        if np.array_equal(ehl_img, covidx_img):\n",
    "            duplicates = duplicates.append(row_ehl, ignore_index=True)\n",
    "            duplicates = duplicates.append(row_covidx, ignore_index=True)\n",
    "    clear_output(wait=True)\n",
    "    display('Finished {}/{}. Duplicates found: {}.'.format(i+1, total_images, int(len(duplicates)/2)))"
   ]
  },
  {
   "cell_type": "code",
   "execution_count": 10,
   "metadata": {},
   "outputs": [],
   "source": [
    "out_ehl = duplicates[duplicates['source'] == 'ehl'].reset_index()[['path']]"
   ]
  },
  {
   "cell_type": "code",
   "execution_count": 11,
   "metadata": {},
   "outputs": [
    {
     "data": {
      "text/html": [
       "<div>\n",
       "<style scoped>\n",
       "    .dataframe tbody tr th:only-of-type {\n",
       "        vertical-align: middle;\n",
       "    }\n",
       "\n",
       "    .dataframe tbody tr th {\n",
       "        vertical-align: top;\n",
       "    }\n",
       "\n",
       "    .dataframe thead th {\n",
       "        text-align: right;\n",
       "    }\n",
       "</style>\n",
       "<table border=\"1\" class=\"dataframe\">\n",
       "  <thead>\n",
       "    <tr style=\"text-align: right;\">\n",
       "      <th></th>\n",
       "      <th>path</th>\n",
       "    </tr>\n",
       "  </thead>\n",
       "  <tbody>\n",
       "    <tr>\n",
       "      <td>90</td>\n",
       "      <td>yxppt-2020-02-19_00-51-27_287214-day8.jpg</td>\n",
       "    </tr>\n",
       "    <tr>\n",
       "      <td>24</td>\n",
       "      <td>kjr-21-e24-g001-l-a.jpg</td>\n",
       "    </tr>\n",
       "    <tr>\n",
       "      <td>37</td>\n",
       "      <td>ryct.2020200034.fig2.jpeg</td>\n",
       "    </tr>\n",
       "    <tr>\n",
       "      <td>42</td>\n",
       "      <td>radiol.2020201160.fig2c.jpeg</td>\n",
       "    </tr>\n",
       "    <tr>\n",
       "      <td>60</td>\n",
       "      <td>1.CXRCTThoraximagesofCOVID-19fromSingapore.pdf...</td>\n",
       "    </tr>\n",
       "  </tbody>\n",
       "</table>\n",
       "</div>"
      ],
      "text/plain": [
       "                                                 path\n",
       "90          yxppt-2020-02-19_00-51-27_287214-day8.jpg\n",
       "24                            kjr-21-e24-g001-l-a.jpg\n",
       "37                          ryct.2020200034.fig2.jpeg\n",
       "42                       radiol.2020201160.fig2c.jpeg\n",
       "60  1.CXRCTThoraximagesofCOVID-19fromSingapore.pdf..."
      ]
     },
     "execution_count": 11,
     "metadata": {},
     "output_type": "execute_result"
    }
   ],
   "source": [
    "out_ehl.sample(5)"
   ]
  },
  {
   "cell_type": "code",
   "execution_count": 12,
   "metadata": {},
   "outputs": [],
   "source": [
    "#out_ehl.to_csv('ehl_cohen_images.txt', index=False, header=False)"
   ]
  },
  {
   "cell_type": "code",
   "execution_count": 13,
   "metadata": {},
   "outputs": [
    {
     "data": {
      "text/plain": [
       "array(['ehl', 'cohen'], dtype=object)"
      ]
     },
     "execution_count": 13,
     "metadata": {},
     "output_type": "execute_result"
    }
   ],
   "source": [
    "duplicates['source'].unique()"
   ]
  },
  {
   "cell_type": "code",
   "execution_count": 14,
   "metadata": {},
   "outputs": [
    {
     "data": {
      "text/html": [
       "<div>\n",
       "<style scoped>\n",
       "    .dataframe tbody tr th:only-of-type {\n",
       "        vertical-align: middle;\n",
       "    }\n",
       "\n",
       "    .dataframe tbody tr th {\n",
       "        vertical-align: top;\n",
       "    }\n",
       "\n",
       "    .dataframe thead th {\n",
       "        text-align: right;\n",
       "    }\n",
       "</style>\n",
       "<table border=\"1\" class=\"dataframe\">\n",
       "  <thead>\n",
       "    <tr style=\"text-align: right;\">\n",
       "      <th></th>\n",
       "      <th>id</th>\n",
       "      <th>type</th>\n",
       "      <th>source</th>\n",
       "      <th>condition</th>\n",
       "      <th>path</th>\n",
       "      <th>resolutions</th>\n",
       "    </tr>\n",
       "  </thead>\n",
       "  <tbody>\n",
       "    <tr>\n",
       "      <td>58</td>\n",
       "      <td>train_COVID-19_COVID-1912132020 (89).jpg</td>\n",
       "      <td>train</td>\n",
       "      <td>ehl</td>\n",
       "      <td>COVID-19</td>\n",
       "      <td>COVID-1912132020 (89).jpg</td>\n",
       "      <td>2000 2000</td>\n",
       "    </tr>\n",
       "  </tbody>\n",
       "</table>\n",
       "</div>"
      ],
      "text/plain": [
       "                                          id   type source condition  \\\n",
       "58  train_COVID-19_COVID-1912132020 (89).jpg  train    ehl  COVID-19   \n",
       "\n",
       "                         path resolutions  \n",
       "58  COVID-1912132020 (89).jpg   2000 2000  "
      ]
     },
     "execution_count": 14,
     "metadata": {},
     "output_type": "execute_result"
    }
   ],
   "source": [
    "df_ehl[df_ehl['path'] == 'COVID-1912132020 (89).jpg']"
   ]
  },
  {
   "cell_type": "code",
   "execution_count": 15,
   "metadata": {},
   "outputs": [],
   "source": [
    "df_ehl['resolution_x'] = df_ehl['resolutions'].apply(lambda x: x.split('\\xa0')[1])\n",
    "df_ehl['resolution_y'] = df_ehl['resolutions'].apply(lambda x: x.split('\\xa0')[0])"
   ]
  },
  {
   "cell_type": "code",
   "execution_count": 16,
   "metadata": {},
   "outputs": [
    {
     "data": {
      "text/plain": [
       "<Figure size 1000x750 with 2 Axes>"
      ]
     },
     "metadata": {},
     "output_type": "display_data"
    }
   ],
   "source": [
    "import matplotlib.pyplot as plt\n",
    "from scipy.stats import gaussian_kde\n",
    "from matplotlib.colors import LinearSegmentedColormap\n",
    "\n",
    "white_viridis = LinearSegmentedColormap.from_list('white_viridis', [\n",
    "    (0, '#ffffff'),\n",
    "    (1e-20, '#fde624'),\n",
    "    (0.2, '#78d151'),\n",
    "    (0.4, '#21a784'),\n",
    "    (0.6, '#2a788e'),\n",
    "    (0.8, '#404388'),\n",
    "    (1, '#440053'),\n",
    "], N=data.shape[0])\n",
    "\n",
    "x = df_ehl['resolution_x'].astype(float).to_numpy()\n",
    "y = df_ehl['resolution_y'].astype(float).to_numpy()\n",
    "\n",
    "plt.figure(figsize=(10,7.5))\n",
    "\n",
    "plt.title('E*HealthLine Image Resolution Distributions')\n",
    "plt.xlabel('Width')\n",
    "plt.ylabel('Height')\n",
    "\n",
    "plt.hist2d(x, y, (50, 50), cmap=white_viridis)\n",
    "\n",
    "plt.grid()\n",
    "plt.colorbar()\n",
    "\n",
    "plt.savefig('ehl_img_pre_cleanup.png')\n",
    "plt.show()"
   ]
  },
  {
   "cell_type": "code",
   "execution_count": 17,
   "metadata": {},
   "outputs": [
    {
     "data": {
      "text/html": [
       "<div>\n",
       "<style scoped>\n",
       "    .dataframe tbody tr th:only-of-type {\n",
       "        vertical-align: middle;\n",
       "    }\n",
       "\n",
       "    .dataframe tbody tr th {\n",
       "        vertical-align: top;\n",
       "    }\n",
       "\n",
       "    .dataframe thead th {\n",
       "        text-align: right;\n",
       "    }\n",
       "</style>\n",
       "<table border=\"1\" class=\"dataframe\">\n",
       "  <thead>\n",
       "    <tr style=\"text-align: right;\">\n",
       "      <th></th>\n",
       "      <th>id</th>\n",
       "    </tr>\n",
       "    <tr>\n",
       "      <th>resolutions</th>\n",
       "      <th></th>\n",
       "    </tr>\n",
       "  </thead>\n",
       "  <tbody>\n",
       "    <tr>\n",
       "      <td>320 390</td>\n",
       "      <td>843</td>\n",
       "    </tr>\n",
       "    <tr>\n",
       "      <td>320 320</td>\n",
       "      <td>473</td>\n",
       "    </tr>\n",
       "    <tr>\n",
       "      <td>320 389</td>\n",
       "      <td>173</td>\n",
       "    </tr>\n",
       "    <tr>\n",
       "      <td>320 369</td>\n",
       "      <td>103</td>\n",
       "    </tr>\n",
       "    <tr>\n",
       "      <td>320 371</td>\n",
       "      <td>54</td>\n",
       "    </tr>\n",
       "    <tr>\n",
       "      <td>...</td>\n",
       "      <td>...</td>\n",
       "    </tr>\n",
       "    <tr>\n",
       "      <td>2771 2979</td>\n",
       "      <td>1</td>\n",
       "    </tr>\n",
       "    <tr>\n",
       "      <td>2800 3408</td>\n",
       "      <td>1</td>\n",
       "    </tr>\n",
       "    <tr>\n",
       "      <td>2840 2972</td>\n",
       "      <td>1</td>\n",
       "    </tr>\n",
       "    <tr>\n",
       "      <td>2880 2376</td>\n",
       "      <td>1</td>\n",
       "    </tr>\n",
       "    <tr>\n",
       "      <td>998 1279</td>\n",
       "      <td>1</td>\n",
       "    </tr>\n",
       "  </tbody>\n",
       "</table>\n",
       "<p>356 rows × 1 columns</p>\n",
       "</div>"
      ],
      "text/plain": [
       "              id\n",
       "resolutions     \n",
       "320 390      843\n",
       "320 320      473\n",
       "320 389      173\n",
       "320 369      103\n",
       "320 371       54\n",
       "...          ...\n",
       "2771 2979      1\n",
       "2800 3408      1\n",
       "2840 2972      1\n",
       "2880 2376      1\n",
       "998 1279       1\n",
       "\n",
       "[356 rows x 1 columns]"
      ]
     },
     "execution_count": 17,
     "metadata": {},
     "output_type": "execute_result"
    }
   ],
   "source": [
    "df_ehl.groupby('resolutions').agg({\n",
    "    'id': 'count'\n",
    "}).sort_values(by='id', ascending=False)"
   ]
  },
  {
   "cell_type": "code",
   "execution_count": 18,
   "metadata": {},
   "outputs": [
    {
     "data": {
      "text/plain": [
       "2305"
      ]
     },
     "execution_count": 18,
     "metadata": {},
     "output_type": "execute_result"
    }
   ],
   "source": [
    "df_ehl.groupby('resolutions').agg({\n",
    "    'id': 'count'\n",
    "})['id'].sum()"
   ]
  },
  {
   "cell_type": "code",
   "execution_count": 20,
   "metadata": {},
   "outputs": [
    {
     "data": {
      "text/html": [
       "<div>\n",
       "<style scoped>\n",
       "    .dataframe tbody tr th:only-of-type {\n",
       "        vertical-align: middle;\n",
       "    }\n",
       "\n",
       "    .dataframe tbody tr th {\n",
       "        vertical-align: top;\n",
       "    }\n",
       "\n",
       "    .dataframe thead th {\n",
       "        text-align: right;\n",
       "    }\n",
       "</style>\n",
       "<table border=\"1\" class=\"dataframe\">\n",
       "  <thead>\n",
       "    <tr style=\"text-align: right;\">\n",
       "      <th></th>\n",
       "      <th>id</th>\n",
       "      <th>type</th>\n",
       "      <th>source</th>\n",
       "      <th>condition</th>\n",
       "      <th>path</th>\n",
       "      <th>resolutions</th>\n",
       "      <th>resolution_x</th>\n",
       "      <th>resolution_y</th>\n",
       "    </tr>\n",
       "  </thead>\n",
       "  <tbody>\n",
       "    <tr>\n",
       "      <td>0</td>\n",
       "      <td>train_COVID-19_COVID-19 _02132021(8).jpg</td>\n",
       "      <td>train</td>\n",
       "      <td>ehl</td>\n",
       "      <td>COVID-19</td>\n",
       "      <td>COVID-19 _02132021(8).jpg</td>\n",
       "      <td>400 339</td>\n",
       "      <td>339</td>\n",
       "      <td>400</td>\n",
       "    </tr>\n",
       "    <tr>\n",
       "      <td>1</td>\n",
       "      <td>train_COVID-19_COVID-19 _02132021(10).jpg</td>\n",
       "      <td>train</td>\n",
       "      <td>ehl</td>\n",
       "      <td>COVID-19</td>\n",
       "      <td>COVID-19 _02132021(10).jpg</td>\n",
       "      <td>768 936</td>\n",
       "      <td>936</td>\n",
       "      <td>768</td>\n",
       "    </tr>\n",
       "    <tr>\n",
       "      <td>2</td>\n",
       "      <td>train_COVID-19_COVID-19 _02132021(47).jpg</td>\n",
       "      <td>train</td>\n",
       "      <td>ehl</td>\n",
       "      <td>COVID-19</td>\n",
       "      <td>COVID-19 _02132021(47).jpg</td>\n",
       "      <td>651 913</td>\n",
       "      <td>913</td>\n",
       "      <td>651</td>\n",
       "    </tr>\n",
       "    <tr>\n",
       "      <td>3</td>\n",
       "      <td>train_COVID-19_covid-19-pneumonia-22-day2-pa.png</td>\n",
       "      <td>train</td>\n",
       "      <td>ehl</td>\n",
       "      <td>COVID-19</td>\n",
       "      <td>covid-19-pneumonia-22-day2-pa.png</td>\n",
       "      <td>1395 1205</td>\n",
       "      <td>1205</td>\n",
       "      <td>1395</td>\n",
       "    </tr>\n",
       "    <tr>\n",
       "      <td>4</td>\n",
       "      <td>train_COVID-19_8FDE8DBA-CFBD-4B4C-B1A4-6F36A93...</td>\n",
       "      <td>train</td>\n",
       "      <td>ehl</td>\n",
       "      <td>COVID-19</td>\n",
       "      <td>8FDE8DBA-CFBD-4B4C-B1A4-6F36A93B7E87.jpeg</td>\n",
       "      <td>657 657</td>\n",
       "      <td>657</td>\n",
       "      <td>657</td>\n",
       "    </tr>\n",
       "  </tbody>\n",
       "</table>\n",
       "</div>"
      ],
      "text/plain": [
       "                                                  id   type source condition  \\\n",
       "0           train_COVID-19_COVID-19 _02132021(8).jpg  train    ehl  COVID-19   \n",
       "1          train_COVID-19_COVID-19 _02132021(10).jpg  train    ehl  COVID-19   \n",
       "2          train_COVID-19_COVID-19 _02132021(47).jpg  train    ehl  COVID-19   \n",
       "3   train_COVID-19_covid-19-pneumonia-22-day2-pa.png  train    ehl  COVID-19   \n",
       "4  train_COVID-19_8FDE8DBA-CFBD-4B4C-B1A4-6F36A93...  train    ehl  COVID-19   \n",
       "\n",
       "                                        path resolutions resolution_x  \\\n",
       "0                  COVID-19 _02132021(8).jpg     400 339          339   \n",
       "1                 COVID-19 _02132021(10).jpg     768 936          936   \n",
       "2                 COVID-19 _02132021(47).jpg     651 913          913   \n",
       "3          covid-19-pneumonia-22-day2-pa.png   1395 1205         1205   \n",
       "4  8FDE8DBA-CFBD-4B4C-B1A4-6F36A93B7E87.jpeg     657 657          657   \n",
       "\n",
       "  resolution_y  \n",
       "0          400  \n",
       "1          768  \n",
       "2          651  \n",
       "3         1395  \n",
       "4          657  "
      ]
     },
     "execution_count": 20,
     "metadata": {},
     "output_type": "execute_result"
    }
   ],
   "source": [
    "df_ehl.head()"
   ]
  },
  {
   "cell_type": "code",
   "execution_count": 22,
   "metadata": {},
   "outputs": [
    {
     "data": {
      "text/html": [
       "<div>\n",
       "<style scoped>\n",
       "    .dataframe tbody tr th:only-of-type {\n",
       "        vertical-align: middle;\n",
       "    }\n",
       "\n",
       "    .dataframe tbody tr th {\n",
       "        vertical-align: top;\n",
       "    }\n",
       "\n",
       "    .dataframe thead th {\n",
       "        text-align: right;\n",
       "    }\n",
       "</style>\n",
       "<table border=\"1\" class=\"dataframe\">\n",
       "  <thead>\n",
       "    <tr style=\"text-align: right;\">\n",
       "      <th></th>\n",
       "      <th></th>\n",
       "      <th>id</th>\n",
       "    </tr>\n",
       "    <tr>\n",
       "      <th>type</th>\n",
       "      <th>condition</th>\n",
       "      <th></th>\n",
       "    </tr>\n",
       "  </thead>\n",
       "  <tbody>\n",
       "    <tr>\n",
       "      <td rowspan=\"3\" valign=\"top\">test</td>\n",
       "      <td>COVID-19</td>\n",
       "      <td>100</td>\n",
       "    </tr>\n",
       "    <tr>\n",
       "      <td>normal</td>\n",
       "      <td>1700</td>\n",
       "    </tr>\n",
       "    <tr>\n",
       "      <td>pneumonia</td>\n",
       "      <td>97</td>\n",
       "    </tr>\n",
       "    <tr>\n",
       "      <td rowspan=\"3\" valign=\"top\">train</td>\n",
       "      <td>COVID-19</td>\n",
       "      <td>189</td>\n",
       "    </tr>\n",
       "    <tr>\n",
       "      <td>normal</td>\n",
       "      <td>198</td>\n",
       "    </tr>\n",
       "    <tr>\n",
       "      <td>pneumonia</td>\n",
       "      <td>21</td>\n",
       "    </tr>\n",
       "  </tbody>\n",
       "</table>\n",
       "</div>"
      ],
      "text/plain": [
       "                   id\n",
       "type  condition      \n",
       "test  COVID-19    100\n",
       "      normal     1700\n",
       "      pneumonia    97\n",
       "train COVID-19    189\n",
       "      normal      198\n",
       "      pneumonia    21"
      ]
     },
     "execution_count": 22,
     "metadata": {},
     "output_type": "execute_result"
    }
   ],
   "source": [
    "df_ehl.groupby(['type', 'condition']).agg({\n",
    "    'id': 'count'\n",
    "})"
   ]
  },
  {
   "cell_type": "code",
   "execution_count": 23,
   "metadata": {},
   "outputs": [
    {
     "data": {
      "text/plain": [
       "(2305, 8)"
      ]
     },
     "execution_count": 23,
     "metadata": {},
     "output_type": "execute_result"
    }
   ],
   "source": [
    "df_ehl.shape"
   ]
  },
  {
   "cell_type": "code",
   "execution_count": 25,
   "metadata": {},
   "outputs": [],
   "source": [
    "# create total ehl text file for inference\n",
    "\n",
    "ehl = pd.DataFrame(columns=['id', 'name', 'class', 'source'], dtype=object)\n",
    "\n",
    "for split in ['train', 'test']:\n",
    "    for ehl_dir in os.listdir('ehl_data/{}'.format(split)):\n",
    "        if ehl_dir in ['COVID-19', 'Pneumonia', 'Normal']:\n",
    "            path = 'ehl_data/{}/{}'.format(split, ehl_dir)\n",
    "            images = os.listdir('ehl_data/{}/{}'.format(split, ehl_dir))\n",
    "            for idx, image in enumerate(images):\n",
    "                path_to_image = os.path.join(path, image)\n",
    "                ehl = ehl.append({\n",
    "                    'id': 'ehl_{}_{}_{}'.format(split, ehl_dir, idx),\n",
    "                    'name': image.replace(\" \", \"\"),\n",
    "                    'class': format_condition(ehl_dir),\n",
    "                    'source': 'ehl',\n",
    "                    'split': split\n",
    "                }, ignore_index=True)\n",
    "                    \n",
    "ehl.to_csv('labels/total_ehl.txt', sep=' ', index=False, header=False)"
   ]
  },
  {
   "cell_type": "code",
   "execution_count": null,
   "metadata": {},
   "outputs": [],
   "source": []
  }
 ],
 "metadata": {
  "kernelspec": {
   "display_name": "Python 3",
   "language": "python",
   "name": "python3"
  },
  "language_info": {
   "codemirror_mode": {
    "name": "ipython",
    "version": 3
   },
   "file_extension": ".py",
   "mimetype": "text/x-python",
   "name": "python",
   "nbconvert_exporter": "python",
   "pygments_lexer": "ipython3",
   "version": "3.7.4"
  }
 },
 "nbformat": 4,
 "nbformat_minor": 4
}
