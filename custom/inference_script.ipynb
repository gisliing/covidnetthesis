{
 "cells": [
  {
   "cell_type": "code",
   "execution_count": 1,
   "id": "competent-remark",
   "metadata": {},
   "outputs": [],
   "source": [
    "import os, argparse\n",
    "import cv2\n",
    "import sys\n",
    "import pandas as pd\n",
    "import tensorflow as tf\n",
    "import numpy as np\n",
    "import datetime\n",
    "import time\n",
    "from IPython.display import display, clear_output"
   ]
  },
  {
   "cell_type": "code",
   "execution_count": 2,
   "id": "measured-transformation",
   "metadata": {},
   "outputs": [],
   "source": [
    "tf.logging.set_verbosity(tf.logging.ERROR)"
   ]
  },
  {
   "cell_type": "code",
   "execution_count": 3,
   "id": "german-phenomenon",
   "metadata": {},
   "outputs": [
    {
     "data": {
      "text/plain": [
       "\"\\nfrom tensorflow.python.client import device_lib\\n\\ndef get_available_gpus():\\n    local_device_protos = device_lib.list_local_devices()\\n    return [x.name for x in local_device_protos if x.device_type == 'GPU']\\n\\nget_available_gpus()\\n\""
      ]
     },
     "execution_count": 3,
     "metadata": {},
     "output_type": "execute_result"
    }
   ],
   "source": [
    "\"\"\"\n",
    "from tensorflow.python.client import device_lib\n",
    "\n",
    "def get_available_gpus():\n",
    "    local_device_protos = device_lib.list_local_devices()\n",
    "    return [x.name for x in local_device_protos if x.device_type == 'GPU']\n",
    "\n",
    "get_available_gpus()\n",
    "\"\"\""
   ]
  },
  {
   "cell_type": "code",
   "execution_count": 4,
   "id": "cheap-wrong",
   "metadata": {},
   "outputs": [],
   "source": [
    "sys.path.insert(1, '/p/project/joaiml/ingolfsson1/COVID_Net')\n",
    "\n",
    "from data import process_image_file"
   ]
  },
  {
   "cell_type": "code",
   "execution_count": 5,
   "id": "prompt-orchestra",
   "metadata": {},
   "outputs": [],
   "source": [
    "df_test = pd.read_csv('/p/project/joaiml/ingolfsson1/COVID_Net/labels/test_COVIDx8A.txt', sep=' ', header=None)\n",
    "#df_test.columns = [\"id\", \"path\", \"condition\", \"source\", \"split\"]\n",
    "\n",
    "df_test.columns = [\"id\", \"path\", \"condition\", \"source\"]"
   ]
  },
  {
   "cell_type": "code",
   "execution_count": 6,
   "id": "oriental-synthetic",
   "metadata": {},
   "outputs": [
    {
     "data": {
      "text/html": [
       "<div>\n",
       "<style scoped>\n",
       "    .dataframe tbody tr th:only-of-type {\n",
       "        vertical-align: middle;\n",
       "    }\n",
       "\n",
       "    .dataframe tbody tr th {\n",
       "        vertical-align: top;\n",
       "    }\n",
       "\n",
       "    .dataframe thead th {\n",
       "        text-align: right;\n",
       "    }\n",
       "</style>\n",
       "<table border=\"1\" class=\"dataframe\">\n",
       "  <thead>\n",
       "    <tr style=\"text-align: right;\">\n",
       "      <th></th>\n",
       "      <th>id</th>\n",
       "      <th>path</th>\n",
       "      <th>condition</th>\n",
       "      <th>source</th>\n",
       "    </tr>\n",
       "  </thead>\n",
       "  <tbody>\n",
       "    <tr>\n",
       "      <th>0</th>\n",
       "      <td>419639-003251</td>\n",
       "      <td>MIDRC-RICORD-1C-419639-003251-46647-0.png</td>\n",
       "      <td>COVID-19</td>\n",
       "      <td>ricord</td>\n",
       "    </tr>\n",
       "    <tr>\n",
       "      <th>1</th>\n",
       "      <td>419639-001464</td>\n",
       "      <td>MIDRC-RICORD-1C-419639-001464-39871-0.png</td>\n",
       "      <td>COVID-19</td>\n",
       "      <td>ricord</td>\n",
       "    </tr>\n",
       "    <tr>\n",
       "      <th>2</th>\n",
       "      <td>419639-000918</td>\n",
       "      <td>MIDRC-RICORD-1C-419639-000918-78965-0.png</td>\n",
       "      <td>COVID-19</td>\n",
       "      <td>ricord</td>\n",
       "    </tr>\n",
       "    <tr>\n",
       "      <th>3</th>\n",
       "      <td>419639-003318</td>\n",
       "      <td>MIDRC-RICORD-1C-419639-003318-64285-0.png</td>\n",
       "      <td>COVID-19</td>\n",
       "      <td>ricord</td>\n",
       "    </tr>\n",
       "    <tr>\n",
       "      <th>4</th>\n",
       "      <td>419639-001015</td>\n",
       "      <td>MIDRC-RICORD-1C-419639-001015-81591-0.png</td>\n",
       "      <td>COVID-19</td>\n",
       "      <td>ricord</td>\n",
       "    </tr>\n",
       "  </tbody>\n",
       "</table>\n",
       "</div>"
      ],
      "text/plain": [
       "              id                                       path condition  source\n",
       "0  419639-003251  MIDRC-RICORD-1C-419639-003251-46647-0.png  COVID-19  ricord\n",
       "1  419639-001464  MIDRC-RICORD-1C-419639-001464-39871-0.png  COVID-19  ricord\n",
       "2  419639-000918  MIDRC-RICORD-1C-419639-000918-78965-0.png  COVID-19  ricord\n",
       "3  419639-003318  MIDRC-RICORD-1C-419639-003318-64285-0.png  COVID-19  ricord\n",
       "4  419639-001015  MIDRC-RICORD-1C-419639-001015-81591-0.png  COVID-19  ricord"
      ]
     },
     "execution_count": 6,
     "metadata": {},
     "output_type": "execute_result"
    }
   ],
   "source": [
    "df_test.head()"
   ]
  },
  {
   "cell_type": "code",
   "execution_count": 7,
   "id": "worst-concept",
   "metadata": {},
   "outputs": [
    {
     "data": {
      "text/plain": [
       "(400, 4)"
      ]
     },
     "execution_count": 7,
     "metadata": {},
     "output_type": "execute_result"
    }
   ],
   "source": [
    "df_test.shape"
   ]
  },
  {
   "cell_type": "code",
   "execution_count": 8,
   "id": "demanding-bride",
   "metadata": {},
   "outputs": [
    {
     "data": {
      "text/html": [
       "<div>\n",
       "<style scoped>\n",
       "    .dataframe tbody tr th:only-of-type {\n",
       "        vertical-align: middle;\n",
       "    }\n",
       "\n",
       "    .dataframe tbody tr th {\n",
       "        vertical-align: top;\n",
       "    }\n",
       "\n",
       "    .dataframe thead th {\n",
       "        text-align: right;\n",
       "    }\n",
       "</style>\n",
       "<table border=\"1\" class=\"dataframe\">\n",
       "  <thead>\n",
       "    <tr style=\"text-align: right;\">\n",
       "      <th></th>\n",
       "      <th>id</th>\n",
       "      <th>path</th>\n",
       "      <th>condition</th>\n",
       "      <th>source</th>\n",
       "      <th>pred</th>\n",
       "      <th>time</th>\n",
       "    </tr>\n",
       "  </thead>\n",
       "  <tbody>\n",
       "    <tr>\n",
       "      <th>395</th>\n",
       "      <td>a77b32f6-1999-4cc6-8a0d-1ef7e53850f0</td>\n",
       "      <td>a77b32f6-1999-4cc6-8a0d-1ef7e53850f0.png</td>\n",
       "      <td>pneumonia</td>\n",
       "      <td>rsna</td>\n",
       "      <td>pneumonia</td>\n",
       "      <td>21.440743</td>\n",
       "    </tr>\n",
       "    <tr>\n",
       "      <th>396</th>\n",
       "      <td>41bf2042-53a2-44a8-9a29-55e643af5ac0</td>\n",
       "      <td>41bf2042-53a2-44a8-9a29-55e643af5ac0.png</td>\n",
       "      <td>pneumonia</td>\n",
       "      <td>rsna</td>\n",
       "      <td>pneumonia</td>\n",
       "      <td>22.142910</td>\n",
       "    </tr>\n",
       "    <tr>\n",
       "      <th>397</th>\n",
       "      <td>ec09ddb3-9b0b-4749-9e0d-f94a4a7e5fed</td>\n",
       "      <td>ec09ddb3-9b0b-4749-9e0d-f94a4a7e5fed.png</td>\n",
       "      <td>pneumonia</td>\n",
       "      <td>rsna</td>\n",
       "      <td>pneumonia</td>\n",
       "      <td>21.561357</td>\n",
       "    </tr>\n",
       "    <tr>\n",
       "      <th>398</th>\n",
       "      <td>abff4044-3c0a-458f-b0c7-04254be7fc0c</td>\n",
       "      <td>abff4044-3c0a-458f-b0c7-04254be7fc0c.png</td>\n",
       "      <td>pneumonia</td>\n",
       "      <td>rsna</td>\n",
       "      <td>pneumonia</td>\n",
       "      <td>21.433315</td>\n",
       "    </tr>\n",
       "    <tr>\n",
       "      <th>399</th>\n",
       "      <td>27b32500-40ef-4c14-ab88-ace5e9ceea27</td>\n",
       "      <td>27b32500-40ef-4c14-ab88-ace5e9ceea27.png</td>\n",
       "      <td>pneumonia</td>\n",
       "      <td>rsna</td>\n",
       "      <td>pneumonia</td>\n",
       "      <td>21.400557</td>\n",
       "    </tr>\n",
       "  </tbody>\n",
       "</table>\n",
       "</div>"
      ],
      "text/plain": [
       "                                       id  \\\n",
       "395  a77b32f6-1999-4cc6-8a0d-1ef7e53850f0   \n",
       "396  41bf2042-53a2-44a8-9a29-55e643af5ac0   \n",
       "397  ec09ddb3-9b0b-4749-9e0d-f94a4a7e5fed   \n",
       "398  abff4044-3c0a-458f-b0c7-04254be7fc0c   \n",
       "399  27b32500-40ef-4c14-ab88-ace5e9ceea27   \n",
       "\n",
       "                                         path  condition source       pred  \\\n",
       "395  a77b32f6-1999-4cc6-8a0d-1ef7e53850f0.png  pneumonia   rsna  pneumonia   \n",
       "396  41bf2042-53a2-44a8-9a29-55e643af5ac0.png  pneumonia   rsna  pneumonia   \n",
       "397  ec09ddb3-9b0b-4749-9e0d-f94a4a7e5fed.png  pneumonia   rsna  pneumonia   \n",
       "398  abff4044-3c0a-458f-b0c7-04254be7fc0c.png  pneumonia   rsna  pneumonia   \n",
       "399  27b32500-40ef-4c14-ab88-ace5e9ceea27.png  pneumonia   rsna  pneumonia   \n",
       "\n",
       "          time  \n",
       "395  21.440743  \n",
       "396  22.142910  \n",
       "397  21.561357  \n",
       "398  21.433315  \n",
       "399  21.400557  "
      ]
     },
     "execution_count": 8,
     "metadata": {},
     "output_type": "execute_result"
    }
   ],
   "source": [
    "\"\"\"\n",
    "df_out = df_test.copy()\n",
    "df_out['pred'] = 'unknown'\n",
    "df_out['time'] = 'unknown'\n",
    "\"\"\"\n",
    "\n",
    "# this needs to be changed if continuing inference from a different run\n",
    "\n",
    "#df_out_higher = pd.read_csv('/p/project/joaiml/ingolfsson1/COVID_Net/results/total_ehl_480_1636665405.csv', sep=',')\n",
    "\n",
    "#df_out_higher.tail()\n",
    "\n",
    "df_out_higher = pd.read_csv('/p/project/joaiml/ingolfsson1/COVID_Net/results/test_covidx_480_1637081973.csv', sep=',')\n",
    "\n",
    "df_out_higher.tail()"
   ]
  },
  {
   "cell_type": "code",
   "execution_count": 9,
   "id": "fallen-calcium",
   "metadata": {},
   "outputs": [
    {
     "data": {
      "text/plain": [
       "\"\\ndf_out = df_test.copy()\\ndf_out['pred'] = 'unknown'\\ndf_out['time'] = 'unknown'\\n\\ndf_out.to_csv('/p/project/joaiml/ingolfsson1/COVID_Net/results/covidx_test_base.csv', index=False)\\n\""
      ]
     },
     "execution_count": 9,
     "metadata": {},
     "output_type": "execute_result"
    }
   ],
   "source": [
    "\"\"\"\n",
    "df_out = df_test.copy()\n",
    "df_out['pred'] = 'unknown'\n",
    "df_out['time'] = 'unknown'\n",
    "\n",
    "df_out.to_csv('/p/project/joaiml/ingolfsson1/COVID_Net/results/covidx_test_base.csv', index=False)\n",
    "\"\"\""
   ]
  },
  {
   "cell_type": "code",
   "execution_count": 10,
   "id": "responsible-cleaners",
   "metadata": {},
   "outputs": [
    {
     "data": {
      "text/html": [
       "<div>\n",
       "<style scoped>\n",
       "    .dataframe tbody tr th:only-of-type {\n",
       "        vertical-align: middle;\n",
       "    }\n",
       "\n",
       "    .dataframe tbody tr th {\n",
       "        vertical-align: top;\n",
       "    }\n",
       "\n",
       "    .dataframe thead th {\n",
       "        text-align: right;\n",
       "    }\n",
       "</style>\n",
       "<table border=\"1\" class=\"dataframe\">\n",
       "  <thead>\n",
       "    <tr style=\"text-align: right;\">\n",
       "      <th></th>\n",
       "      <th>id</th>\n",
       "      <th>path</th>\n",
       "      <th>condition</th>\n",
       "      <th>source</th>\n",
       "      <th>pred</th>\n",
       "      <th>time</th>\n",
       "    </tr>\n",
       "  </thead>\n",
       "  <tbody>\n",
       "    <tr>\n",
       "      <th>395</th>\n",
       "      <td>a77b32f6-1999-4cc6-8a0d-1ef7e53850f0</td>\n",
       "      <td>a77b32f6-1999-4cc6-8a0d-1ef7e53850f0.png</td>\n",
       "      <td>pneumonia</td>\n",
       "      <td>rsna</td>\n",
       "      <td>unknown</td>\n",
       "      <td>unknown</td>\n",
       "    </tr>\n",
       "    <tr>\n",
       "      <th>396</th>\n",
       "      <td>41bf2042-53a2-44a8-9a29-55e643af5ac0</td>\n",
       "      <td>41bf2042-53a2-44a8-9a29-55e643af5ac0.png</td>\n",
       "      <td>pneumonia</td>\n",
       "      <td>rsna</td>\n",
       "      <td>unknown</td>\n",
       "      <td>unknown</td>\n",
       "    </tr>\n",
       "    <tr>\n",
       "      <th>397</th>\n",
       "      <td>ec09ddb3-9b0b-4749-9e0d-f94a4a7e5fed</td>\n",
       "      <td>ec09ddb3-9b0b-4749-9e0d-f94a4a7e5fed.png</td>\n",
       "      <td>pneumonia</td>\n",
       "      <td>rsna</td>\n",
       "      <td>unknown</td>\n",
       "      <td>unknown</td>\n",
       "    </tr>\n",
       "    <tr>\n",
       "      <th>398</th>\n",
       "      <td>abff4044-3c0a-458f-b0c7-04254be7fc0c</td>\n",
       "      <td>abff4044-3c0a-458f-b0c7-04254be7fc0c.png</td>\n",
       "      <td>pneumonia</td>\n",
       "      <td>rsna</td>\n",
       "      <td>unknown</td>\n",
       "      <td>unknown</td>\n",
       "    </tr>\n",
       "    <tr>\n",
       "      <th>399</th>\n",
       "      <td>27b32500-40ef-4c14-ab88-ace5e9ceea27</td>\n",
       "      <td>27b32500-40ef-4c14-ab88-ace5e9ceea27.png</td>\n",
       "      <td>pneumonia</td>\n",
       "      <td>rsna</td>\n",
       "      <td>unknown</td>\n",
       "      <td>unknown</td>\n",
       "    </tr>\n",
       "  </tbody>\n",
       "</table>\n",
       "</div>"
      ],
      "text/plain": [
       "                                       id  \\\n",
       "395  a77b32f6-1999-4cc6-8a0d-1ef7e53850f0   \n",
       "396  41bf2042-53a2-44a8-9a29-55e643af5ac0   \n",
       "397  ec09ddb3-9b0b-4749-9e0d-f94a4a7e5fed   \n",
       "398  abff4044-3c0a-458f-b0c7-04254be7fc0c   \n",
       "399  27b32500-40ef-4c14-ab88-ace5e9ceea27   \n",
       "\n",
       "                                         path  condition source     pred  \\\n",
       "395  a77b32f6-1999-4cc6-8a0d-1ef7e53850f0.png  pneumonia   rsna  unknown   \n",
       "396  41bf2042-53a2-44a8-9a29-55e643af5ac0.png  pneumonia   rsna  unknown   \n",
       "397  ec09ddb3-9b0b-4749-9e0d-f94a4a7e5fed.png  pneumonia   rsna  unknown   \n",
       "398  abff4044-3c0a-458f-b0c7-04254be7fc0c.png  pneumonia   rsna  unknown   \n",
       "399  27b32500-40ef-4c14-ab88-ace5e9ceea27.png  pneumonia   rsna  unknown   \n",
       "\n",
       "        time  \n",
       "395  unknown  \n",
       "396  unknown  \n",
       "397  unknown  \n",
       "398  unknown  \n",
       "399  unknown  "
      ]
     },
     "execution_count": 10,
     "metadata": {},
     "output_type": "execute_result"
    }
   ],
   "source": [
    "df_out_lower = pd.read_csv('/p/project/joaiml/ingolfsson1/COVID_Net/results/covidx_test_base.csv', sep=',')\n",
    "\n",
    "df_out_lower.tail()"
   ]
  },
  {
   "cell_type": "code",
   "execution_count": 11,
   "id": "mechanical-zimbabwe",
   "metadata": {},
   "outputs": [],
   "source": [
    "def format_pred(out):\n",
    "    return out.decode('utf-8').split('\\n')[0].split(' ')[-1]"
   ]
  },
  {
   "cell_type": "code",
   "execution_count": 12,
   "id": "thousand-denver",
   "metadata": {},
   "outputs": [],
   "source": [
    "def predict(imagepath, weightspath, metaname, ckptname, in_tensorname, out_tensorname, input_size):\n",
    "\n",
    "    top_percent = 0.08\n",
    "\n",
    "    mapping = {'normal': 0, 'pneumonia': 1, 'COVID-19': 2}\n",
    "    inv_mapping = {0: 'normal', 1: 'pneumonia', 2: 'COVID-19'}\n",
    "\n",
    "    tf.reset_default_graph()\n",
    "\n",
    "    #config = tf.ConfigProto(device_count={'GPU':1, 'CPU':1})\n",
    "    #config.gpu_options.allow_growth=True\n",
    "    #config.allow_soft_placement=True\n",
    "\n",
    "    #sess = tf.Session(config=config)\n",
    "    sess = tf.Session()\n",
    "    tf.get_default_graph()\n",
    "    saver = tf.train.import_meta_graph(os.path.join(weightspath, metaname))\n",
    "    saver.restore(sess, os.path.join(weightspath, ckptname))\n",
    "\n",
    "    graph = tf.get_default_graph()\n",
    "\n",
    "    image_tensor = graph.get_tensor_by_name(in_tensorname)\n",
    "    pred_tensor = graph.get_tensor_by_name(out_tensorname)\n",
    "\n",
    "    x = process_image_file(imagepath, top_percent, input_size)\n",
    "    x = x.astype('float32') / 255.0\n",
    "    pred = sess.run(pred_tensor, feed_dict={image_tensor: np.expand_dims(x, axis=0)})\n",
    "\n",
    "    prediction = inv_mapping[pred.argmax(axis=1)[0]]\n",
    "\n",
    "    return prediction"
   ]
  },
  {
   "cell_type": "code",
   "execution_count": 13,
   "id": "checked-bikini",
   "metadata": {},
   "outputs": [
    {
     "data": {
      "text/plain": [
       "\"\\nfrom tensorflow.python.client import device_lib\\n\\ndef get_available_gpus():\\n    local_device_protos = device_lib.list_local_devices()\\n    return [x.name for x in local_device_protos if x.device_type == 'GPU']\\n\\nwith tf.device('/device:GPU:0'):\\n    print(get_available_gpus())\\n\""
      ]
     },
     "execution_count": 13,
     "metadata": {},
     "output_type": "execute_result"
    }
   ],
   "source": [
    "\"\"\"\n",
    "from tensorflow.python.client import device_lib\n",
    "\n",
    "def get_available_gpus():\n",
    "    local_device_protos = device_lib.list_local_devices()\n",
    "    return [x.name for x in local_device_protos if x.device_type == 'GPU']\n",
    "\n",
    "with tf.device('/device:GPU:0'):\n",
    "    print(get_available_gpus())\n",
    "\"\"\""
   ]
  },
  {
   "cell_type": "code",
   "execution_count": 14,
   "id": "noted-water",
   "metadata": {},
   "outputs": [
    {
     "data": {
      "text/plain": [
       "\"\\nconfig = tf.ConfigProto(allow_soft_placement=True, log_device_placement=True)\\n\\nwith tf.device('/GPU:1'):\\n    a = tf.constant([[1.0, 2.0, 3.0], [4.0, 5.0, 6.0]])\\n    b = tf.constant([[1.0, 2.0], [3.0, 4.0], [5.0, 6.0]])\\n    c = tf.matmul(a, b)\\n\\nsess = tf.Session(config=config)    \\n\\n# Run on the GPU\\nprint(sess.run(c))\\n\""
      ]
     },
     "execution_count": 14,
     "metadata": {},
     "output_type": "execute_result"
    }
   ],
   "source": [
    "\"\"\"\n",
    "config = tf.ConfigProto(allow_soft_placement=True, log_device_placement=True)\n",
    "\n",
    "with tf.device('/GPU:1'):\n",
    "    a = tf.constant([[1.0, 2.0, 3.0], [4.0, 5.0, 6.0]])\n",
    "    b = tf.constant([[1.0, 2.0], [3.0, 4.0], [5.0, 6.0]])\n",
    "    c = tf.matmul(a, b)\n",
    "\n",
    "sess = tf.Session(config=config)    \n",
    "\n",
    "# Run on the GPU\n",
    "print(sess.run(c))\n",
    "\"\"\""
   ]
  },
  {
   "cell_type": "code",
   "execution_count": 15,
   "id": "planned-pakistan",
   "metadata": {},
   "outputs": [
    {
     "data": {
      "text/plain": [
       "\"\\n# Creates a graph.\\na = tf.constant([1.0, 2.0, 3.0, 4.0, 5.0, 6.0], shape=[2, 3], name='a')\\nb = tf.constant([1.0, 2.0, 3.0, 4.0, 5.0, 6.0], shape=[3, 2], name='b')\\nc = tf.matmul(a, b)\\n# Creates a session with log_device_placement set to True.\\nsess = tf.Session(config=tf.ConfigProto(log_device_placement=True))\\n# Runs the op.\\ndisplay(sess.run(c))\\n\""
      ]
     },
     "execution_count": 15,
     "metadata": {},
     "output_type": "execute_result"
    }
   ],
   "source": [
    "\"\"\"\n",
    "# Creates a graph.\n",
    "a = tf.constant([1.0, 2.0, 3.0, 4.0, 5.0, 6.0], shape=[2, 3], name='a')\n",
    "b = tf.constant([1.0, 2.0, 3.0, 4.0, 5.0, 6.0], shape=[3, 2], name='b')\n",
    "c = tf.matmul(a, b)\n",
    "# Creates a session with log_device_placement set to True.\n",
    "sess = tf.Session(config=tf.ConfigProto(log_device_placement=True))\n",
    "# Runs the op.\n",
    "display(sess.run(c))\n",
    "\"\"\""
   ]
  },
  {
   "cell_type": "code",
   "execution_count": 16,
   "id": "academic-insert",
   "metadata": {},
   "outputs": [
    {
     "data": {
      "text/plain": [
       "\"\\n#tf.logging.set_verbosity(tf.logging.DEBUG)\\n\\n# Creates a graph.\\nwith tf.device('/GPU:1'):\\n    a = tf.constant([1.0, 2.0, 3.0, 4.0, 5.0, 6.0], shape=[2, 3], name='a')\\n    b = tf.constant([1.0, 2.0, 3.0, 4.0, 5.0, 6.0], shape=[3, 2], name='b')\\n\\nc = tf.matmul(a, b)\\n# Creates a session with log_device_placement set to True.\\nsess = tf.Session(config=tf.ConfigProto(log_device_placement=True))\\n# Runs the op.\\nprint(sess.run(c))\\n\""
      ]
     },
     "execution_count": 16,
     "metadata": {},
     "output_type": "execute_result"
    }
   ],
   "source": [
    "\"\"\"\n",
    "#tf.logging.set_verbosity(tf.logging.DEBUG)\n",
    "\n",
    "# Creates a graph.\n",
    "with tf.device('/GPU:1'):\n",
    "    a = tf.constant([1.0, 2.0, 3.0, 4.0, 5.0, 6.0], shape=[2, 3], name='a')\n",
    "    b = tf.constant([1.0, 2.0, 3.0, 4.0, 5.0, 6.0], shape=[3, 2], name='b')\n",
    "\n",
    "c = tf.matmul(a, b)\n",
    "# Creates a session with log_device_placement set to True.\n",
    "sess = tf.Session(config=tf.ConfigProto(log_device_placement=True))\n",
    "# Runs the op.\n",
    "print(sess.run(c))\n",
    "\"\"\""
   ]
  },
  {
   "cell_type": "code",
   "execution_count": 17,
   "id": "psychological-thickness",
   "metadata": {},
   "outputs": [
    {
     "data": {
      "text/plain": [
       "'\\nimport tensorflow as tf\\nif tf.test.gpu_device_name():\\n    print(\\'Default GPU Device: {}\\'.format(tf.test.gpu_device_name()))\\nelse:\\n    print(\"Please install GPU version of TF\")\\n'"
      ]
     },
     "execution_count": 17,
     "metadata": {},
     "output_type": "execute_result"
    }
   ],
   "source": [
    "\"\"\"\n",
    "import tensorflow as tf\n",
    "if tf.test.gpu_device_name():\n",
    "    print('Default GPU Device: {}'.format(tf.test.gpu_device_name()))\n",
    "else:\n",
    "    print(\"Please install GPU version of TF\")\n",
    "\"\"\""
   ]
  },
  {
   "cell_type": "code",
   "execution_count": 18,
   "id": "accepting-dispute",
   "metadata": {},
   "outputs": [
    {
     "data": {
      "text/plain": [
       "'Inference complete.'"
      ]
     },
     "metadata": {},
     "output_type": "display_data"
    },
    {
     "data": {
      "text/plain": [
       "'Total time elapsed: 0'"
      ]
     },
     "metadata": {},
     "output_type": "display_data"
    }
   ],
   "source": [
    "# Using CXR4-A model (480x480 dimensions)\n",
    "\n",
    "df_out_480 = df_out_higher.copy()\n",
    "\n",
    "total = 0\n",
    "ts = int(datetime.datetime.now().timestamp())\n",
    "\n",
    "weightspath = '/p/project/joaiml/ingolfsson1/COVID_Net/models/COVIDNet-CXR4-A'\n",
    "metaname = 'model.meta'\n",
    "ckptname = 'model-18540'\n",
    "in_tensorname = 'input_1:0'\n",
    "out_tensorname = 'norm_dense_1/Softmax:0'\n",
    "input_size = 480\n",
    "\n",
    "for _, image, cond, source in df_test.values:\n",
    "\n",
    "    split = 'test'\n",
    "\n",
    "    if df_out_480[df_out_480['path'] == image]['pred'].iloc[0] == 'unknown':\n",
    "\n",
    "        complete_path = '/p/project/joaiml/ingolfsson1/COVID_Net/data/{}/{}'.format(split, image)\n",
    "\n",
    "        t = time.time()\n",
    "        pred = predict(complete_path, weightspath, metaname, ckptname, in_tensorname, out_tensorname, input_size)\n",
    "        t = time.time() - t\n",
    "\n",
    "        total = total + t\n",
    "\n",
    "        clear_output(wait=True)\n",
    "        display('Image: {}/{}'.format(split, image))\n",
    "        display('Expected: {}'.format(cond))\n",
    "        display('Predicted: {}'.format(pred))\n",
    "        display('Inference time: {}'.format(t))\n",
    "        display('Total time elapsed: {}'.format(total))\n",
    "\n",
    "        df_out_480['pred'] = np.where(df_out_480['path'] == image, pred, df_out_480['pred'])\n",
    "        df_out_480['time'] = np.where(df_out_480['path'] == image, t, df_out_480['time'])\n",
    "\n",
    "        df_out_480.to_csv('/p/project/joaiml/ingolfsson1/COVID_Net/results/test_covidx_480_{}.csv'.format(ts), index=False)\n",
    "\n",
    "clear_output(wait=True)\n",
    "display('Inference complete.')\n",
    "display('Total time elapsed: {}'.format(total))"
   ]
  },
  {
   "cell_type": "code",
   "execution_count": null,
   "id": "printable-edwards",
   "metadata": {},
   "outputs": [
    {
     "data": {
      "text/plain": [
       "'Image: test/436dce2a-06c3-4281-bb8e-840497a49381.png'"
      ]
     },
     "metadata": {},
     "output_type": "display_data"
    },
    {
     "data": {
      "text/plain": [
       "'Expected: normal'"
      ]
     },
     "metadata": {},
     "output_type": "display_data"
    },
    {
     "data": {
      "text/plain": [
       "'Predicted: pneumonia'"
      ]
     },
     "metadata": {},
     "output_type": "display_data"
    },
    {
     "data": {
      "text/plain": [
       "'Inference time: 7.574856996536255'"
      ]
     },
     "metadata": {},
     "output_type": "display_data"
    },
    {
     "data": {
      "text/plain": [
       "'Total time elapsed: 1658.7800579071045'"
      ]
     },
     "metadata": {},
     "output_type": "display_data"
    }
   ],
   "source": [
    "# Using CXR-Large model (224x224 dimensions)\n",
    "\n",
    "df_out_224 = df_out_lower.copy()\n",
    "\n",
    "total = 0\n",
    "ts = int(datetime.datetime.now().timestamp())\n",
    "\n",
    "weightspath = '/p/project/joaiml/ingolfsson1/COVID_Net/models/COVIDNet-CXR-Large'\n",
    "metaname = 'model.meta'\n",
    "ckptname = 'model-8485'\n",
    "in_tensorname = 'input_1:0'\n",
    "out_tensorname = 'dense_3/Softmax:0'\n",
    "input_size = 224\n",
    "\n",
    "for _, image, cond, source in df_test.values:\n",
    "\n",
    "    split = 'test'\n",
    "\n",
    "    if df_out_224[df_out_224['path'] == image]['pred'].iloc[0] == 'unknown':\n",
    "\n",
    "        complete_path = '/p/project/joaiml/ingolfsson1/COVID_Net/data/{}/{}'.format(split, image)\n",
    "\n",
    "        t = time.time()\n",
    "        pred = predict(complete_path, weightspath, metaname, ckptname, in_tensorname, out_tensorname, input_size)\n",
    "        t = time.time() - t\n",
    "\n",
    "        total = total + t\n",
    "\n",
    "        clear_output(wait=True)\n",
    "        display('Image: {}/{}'.format(split, image))\n",
    "        display('Expected: {}'.format(cond))\n",
    "        display('Predicted: {}'.format(pred))\n",
    "        display('Inference time: {}'.format(t))\n",
    "        display('Total time elapsed: {}'.format(total))\n",
    "\n",
    "        df_out_224['pred'] = np.where(df_out_224['path'] == image, pred, df_out_224['pred'])\n",
    "        df_out_224['time'] = np.where(df_out_224['path'] == image, t, df_out_224['time'])\n",
    "\n",
    "        df_out_224.to_csv('/p/project/joaiml/ingolfsson1/COVID_Net/results/test_covidx_224_{}.csv'.format(ts), index=False)\n",
    "\n",
    "clear_output(wait=True)\n",
    "display('Inference complete.')\n",
    "display('Total time elapsed: {}'.format(total))"
   ]
  },
  {
   "cell_type": "code",
   "execution_count": null,
   "id": "oriented-sustainability",
   "metadata": {},
   "outputs": [],
   "source": []
  },
  {
   "cell_type": "code",
   "execution_count": null,
   "id": "auburn-chart",
   "metadata": {},
   "outputs": [],
   "source": []
  }
 ],
 "metadata": {
  "kernelspec": {
   "display_name": "covid_kernel",
   "language": "python",
   "name": "covid_kernel"
  },
  "language_info": {
   "codemirror_mode": {
    "name": "ipython",
    "version": 3
   },
   "file_extension": ".py",
   "mimetype": "text/x-python",
   "name": "python",
   "nbconvert_exporter": "python",
   "pygments_lexer": "ipython3",
   "version": "3.6.8"
  }
 },
 "nbformat": 4,
 "nbformat_minor": 5
}
