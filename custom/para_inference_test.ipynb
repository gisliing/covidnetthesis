{
 "cells": [
  {
   "cell_type": "code",
   "execution_count": 1,
   "id": "official-university",
   "metadata": {},
   "outputs": [
    {
     "data": {
      "text/plain": [
       "[name: \"/device:CPU:0\"\n",
       " device_type: \"CPU\"\n",
       " memory_limit: 268435456\n",
       " locality {\n",
       " }\n",
       " incarnation: 16099552019600988268,\n",
       " name: \"/device:XLA_CPU:0\"\n",
       " device_type: \"XLA_CPU\"\n",
       " memory_limit: 17179869184\n",
       " locality {\n",
       " }\n",
       " incarnation: 1392391390617979367\n",
       " physical_device_desc: \"device: XLA_CPU device\",\n",
       " name: \"/device:XLA_GPU:0\"\n",
       " device_type: \"XLA_GPU\"\n",
       " memory_limit: 17179869184\n",
       " locality {\n",
       " }\n",
       " incarnation: 1914467379075914557\n",
       " physical_device_desc: \"device: XLA_GPU device\",\n",
       " name: \"/device:XLA_GPU:1\"\n",
       " device_type: \"XLA_GPU\"\n",
       " memory_limit: 17179869184\n",
       " locality {\n",
       " }\n",
       " incarnation: 6850332535468460366\n",
       " physical_device_desc: \"device: XLA_GPU device\",\n",
       " name: \"/device:XLA_GPU:2\"\n",
       " device_type: \"XLA_GPU\"\n",
       " memory_limit: 17179869184\n",
       " locality {\n",
       " }\n",
       " incarnation: 15647959244670680162\n",
       " physical_device_desc: \"device: XLA_GPU device\",\n",
       " name: \"/device:XLA_GPU:3\"\n",
       " device_type: \"XLA_GPU\"\n",
       " memory_limit: 17179869184\n",
       " locality {\n",
       " }\n",
       " incarnation: 16942679776521885520\n",
       " physical_device_desc: \"device: XLA_GPU device\",\n",
       " name: \"/device:GPU:0\"\n",
       " device_type: \"GPU\"\n",
       " memory_limit: 15660990464\n",
       " locality {\n",
       "   bus_id: 1\n",
       "   links {\n",
       "     link {\n",
       "       device_id: 1\n",
       "       type: \"StreamExecutor\"\n",
       "       strength: 1\n",
       "     }\n",
       "     link {\n",
       "       device_id: 2\n",
       "       type: \"StreamExecutor\"\n",
       "       strength: 1\n",
       "     }\n",
       "     link {\n",
       "       device_id: 3\n",
       "       type: \"StreamExecutor\"\n",
       "       strength: 1\n",
       "     }\n",
       "   }\n",
       " }\n",
       " incarnation: 257433910921536916\n",
       " physical_device_desc: \"device: 0, name: Tesla V100-PCIE-16GB, pci bus id: 0000:3b:00.0, compute capability: 7.0\",\n",
       " name: \"/device:GPU:1\"\n",
       " device_type: \"GPU\"\n",
       " memory_limit: 15660990464\n",
       " locality {\n",
       "   bus_id: 1\n",
       "   links {\n",
       "     link {\n",
       "       type: \"StreamExecutor\"\n",
       "       strength: 1\n",
       "     }\n",
       "     link {\n",
       "       device_id: 2\n",
       "       type: \"StreamExecutor\"\n",
       "       strength: 1\n",
       "     }\n",
       "     link {\n",
       "       device_id: 3\n",
       "       type: \"StreamExecutor\"\n",
       "       strength: 1\n",
       "     }\n",
       "   }\n",
       " }\n",
       " incarnation: 16545483751143827517\n",
       " physical_device_desc: \"device: 1, name: Tesla V100-PCIE-16GB, pci bus id: 0000:61:00.0, compute capability: 7.0\",\n",
       " name: \"/device:GPU:2\"\n",
       " device_type: \"GPU\"\n",
       " memory_limit: 15660990464\n",
       " locality {\n",
       "   bus_id: 2\n",
       "   numa_node: 1\n",
       "   links {\n",
       "     link {\n",
       "       type: \"StreamExecutor\"\n",
       "       strength: 1\n",
       "     }\n",
       "     link {\n",
       "       device_id: 1\n",
       "       type: \"StreamExecutor\"\n",
       "       strength: 1\n",
       "     }\n",
       "     link {\n",
       "       device_id: 3\n",
       "       type: \"StreamExecutor\"\n",
       "       strength: 1\n",
       "     }\n",
       "   }\n",
       " }\n",
       " incarnation: 8705028172747909486\n",
       " physical_device_desc: \"device: 2, name: Tesla V100-PCIE-16GB, pci bus id: 0000:da:00.0, compute capability: 7.0\",\n",
       " name: \"/device:GPU:3\"\n",
       " device_type: \"GPU\"\n",
       " memory_limit: 15660990464\n",
       " locality {\n",
       "   bus_id: 2\n",
       "   numa_node: 1\n",
       "   links {\n",
       "     link {\n",
       "       type: \"StreamExecutor\"\n",
       "       strength: 1\n",
       "     }\n",
       "     link {\n",
       "       device_id: 1\n",
       "       type: \"StreamExecutor\"\n",
       "       strength: 1\n",
       "     }\n",
       "     link {\n",
       "       device_id: 2\n",
       "       type: \"StreamExecutor\"\n",
       "       strength: 1\n",
       "     }\n",
       "   }\n",
       " }\n",
       " incarnation: 7391169671759590204\n",
       " physical_device_desc: \"device: 3, name: Tesla V100-PCIE-16GB, pci bus id: 0000:db:00.0, compute capability: 7.0\"]"
      ]
     },
     "execution_count": 1,
     "metadata": {},
     "output_type": "execute_result"
    }
   ],
   "source": [
    "from tensorflow.python.client import device_lib\n",
    "device_lib.list_local_devices()"
   ]
  },
  {
   "cell_type": "code",
   "execution_count": 28,
   "id": "vocational-ready",
   "metadata": {},
   "outputs": [],
   "source": [
    "import sys\n",
    "sys.path.insert(1, '/p/project/joaiml/CovidNet')"
   ]
  },
  {
   "cell_type": "code",
   "execution_count": 29,
   "id": "metropolitan-learning",
   "metadata": {},
   "outputs": [],
   "source": [
    "import cv2\n",
    "import time\n",
    "import pandas as pd\n",
    "import numpy as np\n",
    "import tensorflow\n",
    "from data import process_image_file\n",
    "#os.environ['TF_CPP_MIN_LOG_LEVEL'] = '2'"
   ]
  },
  {
   "cell_type": "code",
   "execution_count": 30,
   "id": "least-governor",
   "metadata": {},
   "outputs": [],
   "source": [
    "from IPython.display import display, clear_output"
   ]
  },
  {
   "cell_type": "code",
   "execution_count": 31,
   "id": "abandoned-idaho",
   "metadata": {},
   "outputs": [],
   "source": [
    "def inference(imagepath):\n",
    "\n",
    "    weightspath = '/p/project/joaiml/CovidNet/models/COVIDNet-CXR4-A'\n",
    "    metaname = 'model.meta'\n",
    "    ckptname = 'model-18540'\n",
    "    in_tensorname = 'input_1:0'\n",
    "    out_tensorname = 'norm_dense_1/Softmax:0'\n",
    "    input_size = 480\n",
    "    top_percent = 0.08\n",
    "\n",
    "    mapping = {'normal': 0, 'pneumonia': 1, 'COVID-19': 2}\n",
    "    inv_mapping = {0: 'normal', 1: 'pneumonia', 2: 'COVID-19'}\n",
    "\n",
    "    tensorflow.reset_default_graph()\n",
    "    sess = tensorflow.Session()\n",
    "    tensorflow.get_default_graph()\n",
    "    saver = tensorflow.train.import_meta_graph(os.path.join(weightspath, metaname))\n",
    "    saver.restore(sess, os.path.join(weightspath, ckptname))\n",
    "\n",
    "    graph = tensorflow.get_default_graph()\n",
    "\n",
    "    image_tensor = graph.get_tensor_by_name(in_tensorname)\n",
    "    pred_tensor = graph.get_tensor_by_name(out_tensorname)\n",
    "\n",
    "    x = process_image_file(imagepath, top_percent, input_size)\n",
    "    x = x.astype('float32') / 255.0\n",
    "    #\n",
    "    pred = sess.run(pred_tensor, feed_dict={image_tensor: np.expand_dims(x, axis=0)})\n",
    "    # display the diff\n",
    "    \n",
    "    prediction = inv_mapping[pred.argmax(axis=1)[0]]\n",
    "\n",
    "    return prediction, (format(pred[0][0], '.3f'), format(pred[0][1], '.3f'), format(pred[0][2], '.3f'))"
   ]
  },
  {
   "cell_type": "code",
   "execution_count": 32,
   "id": "specified-chess",
   "metadata": {},
   "outputs": [],
   "source": [
    "DATAFRAME_NAME = '/p/project/joaiml/CovidNet/inference_covidx_dataset_results_deep_jupyter.csv'\n",
    "df = pd.read_csv(DATAFRAME_NAME)"
   ]
  },
  {
   "cell_type": "code",
   "execution_count": 33,
   "id": "southern-tomato",
   "metadata": {},
   "outputs": [
    {
     "data": {
      "text/html": [
       "<div>\n",
       "<style scoped>\n",
       "    .dataframe tbody tr th:only-of-type {\n",
       "        vertical-align: middle;\n",
       "    }\n",
       "\n",
       "    .dataframe tbody tr th {\n",
       "        vertical-align: top;\n",
       "    }\n",
       "\n",
       "    .dataframe thead th {\n",
       "        text-align: right;\n",
       "    }\n",
       "</style>\n",
       "<table border=\"1\" class=\"dataframe\">\n",
       "  <thead>\n",
       "    <tr style=\"text-align: right;\">\n",
       "      <th></th>\n",
       "      <th>Image</th>\n",
       "      <th>Correct</th>\n",
       "      <th>Predicted</th>\n",
       "      <th>Confidence_Normal</th>\n",
       "      <th>Confidence_Pneumonia</th>\n",
       "      <th>Confidence_Covid19</th>\n",
       "    </tr>\n",
       "  </thead>\n",
       "  <tbody>\n",
       "  </tbody>\n",
       "</table>\n",
       "</div>"
      ],
      "text/plain": [
       "Empty DataFrame\n",
       "Columns: [Image, Correct, Predicted, Confidence_Normal, Confidence_Pneumonia, Confidence_Covid19]\n",
       "Index: []"
      ]
     },
     "execution_count": 33,
     "metadata": {},
     "output_type": "execute_result"
    }
   ],
   "source": [
    "df.head()"
   ]
  },
  {
   "cell_type": "code",
   "execution_count": 34,
   "id": "radical-playing",
   "metadata": {},
   "outputs": [],
   "source": [
    "img_paths = ['/p/project/joaiml/CovidNet/COVIDx/test/COVID-19',\n",
    "             '/p/project/joaiml/CovidNet/COVIDx/test/normal',\n",
    "             '/p/project/joaiml/CovidNet/COVIDx/test/pneumonia']"
   ]
  },
  {
   "cell_type": "code",
   "execution_count": null,
   "id": "juvenile-classroom",
   "metadata": {},
   "outputs": [
    {
     "data": {
      "text/plain": [
       "'Inference on image 45 / 100. Time elapsed this run: 966.7587938308716'"
      ]
     },
     "metadata": {},
     "output_type": "display_data"
    },
    {
     "name": "stdout",
     "output_type": "stream",
     "text": [
      "INFO:tensorflow:Restoring parameters from /p/project/joaiml/CovidNet/models/COVIDNet-CXR4-A/model-18540\n"
     ]
    }
   ],
   "source": [
    "total = time.time()\n",
    "for path in img_paths:\n",
    "    images = os.listdir(path)\n",
    "    for idx, image in enumerate(images):\n",
    "        path_to_image = os.path.join(path, image)\n",
    "        if path_to_image not in df['Image'].values:\n",
    "            clear_output(wait=True)\n",
    "            display('Inference on image {} / {}. Time elapsed this run: {}'.format(idx+1, len(images), format(time.time()-total)))\n",
    "            res, conf = inference(path_to_image)\n",
    "            df = df.append({'Image': path_to_image,\n",
    "                            'Correct': path_to_image.split('/')[-2],\n",
    "                            'Predicted': res,\n",
    "                            'Confidence_Normal': conf[0],\n",
    "                            'Confidence_Pneumonia': conf[1],\n",
    "                            'Confidence_Covid19': conf[2]}, ignore_index=True)\n",
    "            df.to_csv(DATAFRAME_NAME, index=False)\n",
    "\n",
    "display(\"Finished inference on CovidX. Time elapsed: {}\".format(time.time()-total))"
   ]
  },
  {
   "cell_type": "code",
   "execution_count": 25,
   "id": "canadian-advocate",
   "metadata": {},
   "outputs": [],
   "source": [
    "DATAFRAME_NAME = '/p/project/joaiml/CovidNet/inference_ehl_dataset_results_deep_jupyter.csv'\n",
    "df = pd.read_csv(DATAFRAME_NAME)"
   ]
  },
  {
   "cell_type": "code",
   "execution_count": 27,
   "id": "demographic-touch",
   "metadata": {},
   "outputs": [
    {
     "data": {
      "text/html": [
       "<div>\n",
       "<style scoped>\n",
       "    .dataframe tbody tr th:only-of-type {\n",
       "        vertical-align: middle;\n",
       "    }\n",
       "\n",
       "    .dataframe tbody tr th {\n",
       "        vertical-align: top;\n",
       "    }\n",
       "\n",
       "    .dataframe thead th {\n",
       "        text-align: right;\n",
       "    }\n",
       "</style>\n",
       "<table border=\"1\" class=\"dataframe\">\n",
       "  <thead>\n",
       "    <tr style=\"text-align: right;\">\n",
       "      <th></th>\n",
       "      <th>Image</th>\n",
       "      <th>Correct</th>\n",
       "      <th>Predicted</th>\n",
       "      <th>Confidence_Normal</th>\n",
       "      <th>Confidence_Pneumonia</th>\n",
       "      <th>Confidence_Covid19</th>\n",
       "    </tr>\n",
       "  </thead>\n",
       "  <tbody>\n",
       "  </tbody>\n",
       "</table>\n",
       "</div>"
      ],
      "text/plain": [
       "Empty DataFrame\n",
       "Columns: [Image, Correct, Predicted, Confidence_Normal, Confidence_Pneumonia, Confidence_Covid19]\n",
       "Index: []"
      ]
     },
     "execution_count": 27,
     "metadata": {},
     "output_type": "execute_result"
    }
   ],
   "source": [
    "df.head()"
   ]
  },
  {
   "cell_type": "code",
   "execution_count": 26,
   "id": "important-safety",
   "metadata": {},
   "outputs": [],
   "source": [
    "img_paths = ['/p/project/joaiml/CovidNet/EHL/test/COVID-19',\n",
    "             '/p/project/joaiml/CovidNet/EHL/train/COVID-19',\n",
    "             '/p/project/joaiml/CovidNet/EHL/test/Normal',\n",
    "             '/p/project/joaiml/CovidNet/EHL/train/Normal',\n",
    "             '/p/project/joaiml/CovidNet/EHL/test/Pneumonia',\n",
    "             '/p/project/joaiml/CovidNet/EHL/train/Pneumonia']"
   ]
  },
  {
   "cell_type": "code",
   "execution_count": null,
   "id": "korean-making",
   "metadata": {},
   "outputs": [],
   "source": [
    "total = time.time()\n",
    "for path in img_paths:\n",
    "    images = os.listdir(path)\n",
    "    for idx, image in enumerate(images):\n",
    "        path_to_image = os.path.join(path, image)\n",
    "        if path_to_image not in df['Image'].values:\n",
    "            clear_output(wait=True)\n",
    "            display('Inference on image ({}) {} / {}. Time elapsed this run: {}'.format(path_to_image, idx+1, len(images), format(time.time()-total)))\n",
    "            res, conf = inference(path_to_image)\n",
    "            df = df.append({'Image': path_to_image,\n",
    "                            'Correct': path_to_image.split('/')[-2],\n",
    "                            'Predicted': res,\n",
    "                            'Confidence_Normal': conf[0],\n",
    "                            'Confidence_Pneumonia': conf[1],\n",
    "                            'Confidence_Covid19': conf[2]}, ignore_index=True)\n",
    "            df.to_csv(DATAFRAME_NAME, index=False)"
   ]
  },
  {
   "cell_type": "code",
   "execution_count": null,
   "id": "unlike-couple",
   "metadata": {},
   "outputs": [],
   "source": []
  },
  {
   "cell_type": "code",
   "execution_count": null,
   "id": "electronic-matter",
   "metadata": {},
   "outputs": [],
   "source": []
  },
  {
   "cell_type": "code",
   "execution_count": 20,
   "id": "advanced-survivor",
   "metadata": {},
   "outputs": [
    {
     "data": {
      "text/plain": [
       "\"\\ndf = pd.DataFrame(columns = ['Image', 'Correct', 'Predicted', 'Confidence_Normal', 'Confidence_Pneumonia', 'Confidence_Covid19'])\\ndf.to_csv('/p/project/joaiml/CovidNet/inference_covidx_dataset_results_deep_jupyter.csv', index=False)\\n\""
      ]
     },
     "execution_count": 20,
     "metadata": {},
     "output_type": "execute_result"
    }
   ],
   "source": [
    "\"\"\"\n",
    "df = pd.DataFrame(columns = ['Image', 'Correct', 'Predicted', 'Confidence_Normal', 'Confidence_Pneumonia', 'Confidence_Covid19'])\n",
    "df.to_csv('/p/project/joaiml/CovidNet/inference_covidx_dataset_results_deep_jupyter.csv', index=False)\n",
    "\"\"\""
   ]
  },
  {
   "cell_type": "code",
   "execution_count": null,
   "id": "micro-forward",
   "metadata": {},
   "outputs": [],
   "source": []
  }
 ],
 "metadata": {
  "kernelspec": {
   "display_name": "ingolfsson1_kernel",
   "language": "python",
   "name": "ingolfsson1_kernel"
  },
  "language_info": {
   "codemirror_mode": {
    "name": "ipython",
    "version": 3
   },
   "file_extension": ".py",
   "mimetype": "text/x-python",
   "name": "python",
   "nbconvert_exporter": "python",
   "pygments_lexer": "ipython3",
   "version": "3.6.8"
  }
 },
 "nbformat": 4,
 "nbformat_minor": 5
}
