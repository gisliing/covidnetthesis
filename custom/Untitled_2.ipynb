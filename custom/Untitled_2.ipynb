{
 "cells": [
  {
   "cell_type": "code",
   "execution_count": 1,
   "id": "subjective-oliver",
   "metadata": {},
   "outputs": [],
   "source": [
    "import pandas as pd\n",
    "from sklearn.metrics import confusion_matrix\n",
    "from sklearn.metrics import plot_confusion_matrix\n",
    "from sklearn.metrics import ConfusionMatrixDisplay\n",
    "import matplotlib.pyplot as plt\n",
    "import numpy as np"
   ]
  },
  {
   "cell_type": "code",
   "execution_count": 48,
   "id": "statewide-marathon",
   "metadata": {},
   "outputs": [],
   "source": [
    "m = np.array([[369,7,1],[19,6,1],[3,2,33]])\n",
    "m = m[::-1].T[::-1].T"
   ]
  },
  {
   "cell_type": "code",
   "execution_count": 49,
   "id": "natural-child",
   "metadata": {},
   "outputs": [
    {
     "data": {
      "image/png": "[encoded data removed]",
      "text/plain": [
       "<Figure size 432x288 with 1 Axes>"
      ]
     },
     "metadata": {
      "needs_background": "light"
     },
     "output_type": "display_data"
    }
   ],
   "source": [
    "disp = ConfusionMatrixDisplay(confusion_matrix=m,\n",
    "                              display_labels=['COVID-19', 'Non-COVID-19 Pneumonia', 'No Pneumonia'])\n",
    "\n",
    "disp = disp.plot(include_values=True,\n",
    "                 cmap=plt.cm.Blues, ax=None, xticks_rotation='vertical', values_format='d')\n",
    "\n",
    "disp.im_.colorbar.remove()\n",
    "plt.show()"
   ]
  },
  {
   "cell_type": "code",
   "execution_count": null,
   "id": "racial-township",
   "metadata": {},
   "outputs": [],
   "source": []
  },
  {
   "cell_type": "code",
   "execution_count": 41,
   "id": "extended-burlington",
   "metadata": {},
   "outputs": [
    {
     "data": {
      "text/plain": [
       "0.9206349206349206"
      ]
     },
     "execution_count": 41,
     "metadata": {},
     "output_type": "execute_result"
    }
   ],
   "source": [
    "accuracy = (m[0,0] + m[1,1] + m[2,2]) / m.sum()\n",
    "accuracy"
   ]
  },
  {
   "cell_type": "code",
   "execution_count": 42,
   "id": "independent-somalia",
   "metadata": {},
   "outputs": [
    {
     "data": {
      "text/plain": [
       "0.7105263157894737"
      ]
     },
     "execution_count": 42,
     "metadata": {},
     "output_type": "execute_result"
    }
   ],
   "source": [
    "covid_19_sensitivity = m[0,0] / (m[0].sum())\n",
    "covid_19_sensitivity"
   ]
  },
  {
   "cell_type": "code",
   "execution_count": 43,
   "id": "lightweight-hundred",
   "metadata": {},
   "outputs": [
    {
     "data": {
      "text/plain": [
       "0.15384615384615385"
      ]
     },
     "execution_count": 43,
     "metadata": {},
     "output_type": "execute_result"
    }
   ],
   "source": [
    "pneumonia_sensitivity = m[1,1] / (m[1].sum())\n",
    "pneumonia_sensitivity"
   ]
  },
  {
   "cell_type": "code",
   "execution_count": 44,
   "id": "broken-portsmouth",
   "metadata": {},
   "outputs": [
    {
     "data": {
      "text/plain": [
       "0.9946949602122016"
      ]
     },
     "execution_count": 44,
     "metadata": {},
     "output_type": "execute_result"
    }
   ],
   "source": [
    "normal_sensitivity = m[2,2] / (m[2].sum())\n",
    "normal_sensitivity"
   ]
  },
  {
   "cell_type": "code",
   "execution_count": 45,
   "id": "every-somerset",
   "metadata": {},
   "outputs": [
    {
     "data": {
      "text/plain": [
       "0.9642857142857143"
      ]
     },
     "execution_count": 45,
     "metadata": {},
     "output_type": "execute_result"
    }
   ],
   "source": [
    "covid_19_ppv = m[0,0] / (m[0,0] + m[1,0] + m[2,0])\n",
    "covid_19_ppv"
   ]
  },
  {
   "cell_type": "code",
   "execution_count": 46,
   "id": "settled-machinery",
   "metadata": {},
   "outputs": [
    {
     "data": {
      "text/plain": [
       "0.5714285714285714"
      ]
     },
     "execution_count": 46,
     "metadata": {},
     "output_type": "execute_result"
    }
   ],
   "source": [
    "pneumonia_ppv = m[1,1] / (m[0,1] + m[1,1] + m[2,1])\n",
    "pneumonia_ppv"
   ]
  },
  {
   "cell_type": "code",
   "execution_count": 47,
   "id": "bored-character",
   "metadata": {},
   "outputs": [
    {
     "data": {
      "text/plain": [
       "0.9236453201970444"
      ]
     },
     "execution_count": 47,
     "metadata": {},
     "output_type": "execute_result"
    }
   ],
   "source": [
    "normal_ppv = m[2,2] / (m[0,2] + m[1,2] + m[2,2])\n",
    "normal_ppv"
   ]
  },
  {
   "cell_type": "code",
   "execution_count": null,
   "id": "breeding-multiple",
   "metadata": {},
   "outputs": [],
   "source": []
  },
  {
   "cell_type": "code",
   "execution_count": null,
   "id": "leading-format",
   "metadata": {},
   "outputs": [],
   "source": []
  }
 ],
 "metadata": {
  "kernelspec": {
   "display_name": "Python 3",
   "language": "python",
   "name": "python3"
  },
  "language_info": {
   "codemirror_mode": {
    "name": "ipython",
    "version": 3
   },
   "file_extension": ".py",
   "mimetype": "text/x-python",
   "name": "python",
   "nbconvert_exporter": "python",
   "pygments_lexer": "ipython3",
   "version": "3.8.5"
  }
 },
 "nbformat": 4,
 "nbformat_minor": 5
}
