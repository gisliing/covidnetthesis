{
 "cells": [
  {
   "cell_type": "code",
   "execution_count": 1,
   "id": "common-speaking",
   "metadata": {},
   "outputs": [],
   "source": [
    "import pandas as pd"
   ]
  },
  {
   "cell_type": "code",
   "execution_count": 2,
   "id": "military-bunch",
   "metadata": {},
   "outputs": [
    {
     "data": {
      "text/html": [
       "<div>\n",
       "<style scoped>\n",
       "    .dataframe tbody tr th:only-of-type {\n",
       "        vertical-align: middle;\n",
       "    }\n",
       "\n",
       "    .dataframe tbody tr th {\n",
       "        vertical-align: top;\n",
       "    }\n",
       "\n",
       "    .dataframe thead th {\n",
       "        text-align: right;\n",
       "    }\n",
       "</style>\n",
       "<table border=\"1\" class=\"dataframe\">\n",
       "  <thead>\n",
       "    <tr style=\"text-align: right;\">\n",
       "      <th></th>\n",
       "      <th>id</th>\n",
       "      <th>path</th>\n",
       "      <th>condition</th>\n",
       "      <th>source</th>\n",
       "      <th>pred</th>\n",
       "      <th>time</th>\n",
       "    </tr>\n",
       "  </thead>\n",
       "  <tbody>\n",
       "    <tr>\n",
       "      <th>0</th>\n",
       "      <td>419639-003251</td>\n",
       "      <td>MIDRC-RICORD-1C-419639-003251-46647-0.png</td>\n",
       "      <td>COVID-19</td>\n",
       "      <td>ricord</td>\n",
       "      <td>COVID-19</td>\n",
       "      <td>39.247878</td>\n",
       "    </tr>\n",
       "    <tr>\n",
       "      <th>1</th>\n",
       "      <td>419639-001464</td>\n",
       "      <td>MIDRC-RICORD-1C-419639-001464-39871-0.png</td>\n",
       "      <td>COVID-19</td>\n",
       "      <td>ricord</td>\n",
       "      <td>pneumonia</td>\n",
       "      <td>6.134052</td>\n",
       "    </tr>\n",
       "    <tr>\n",
       "      <th>2</th>\n",
       "      <td>419639-000918</td>\n",
       "      <td>MIDRC-RICORD-1C-419639-000918-78965-0.png</td>\n",
       "      <td>COVID-19</td>\n",
       "      <td>ricord</td>\n",
       "      <td>COVID-19</td>\n",
       "      <td>6.380929</td>\n",
       "    </tr>\n",
       "    <tr>\n",
       "      <th>3</th>\n",
       "      <td>419639-003318</td>\n",
       "      <td>MIDRC-RICORD-1C-419639-003318-64285-0.png</td>\n",
       "      <td>COVID-19</td>\n",
       "      <td>ricord</td>\n",
       "      <td>COVID-19</td>\n",
       "      <td>6.666050</td>\n",
       "    </tr>\n",
       "    <tr>\n",
       "      <th>4</th>\n",
       "      <td>419639-001015</td>\n",
       "      <td>MIDRC-RICORD-1C-419639-001015-81591-0.png</td>\n",
       "      <td>COVID-19</td>\n",
       "      <td>ricord</td>\n",
       "      <td>normal</td>\n",
       "      <td>6.107113</td>\n",
       "    </tr>\n",
       "  </tbody>\n",
       "</table>\n",
       "</div>"
      ],
      "text/plain": [
       "              id                                       path condition  source  \\\n",
       "0  419639-003251  MIDRC-RICORD-1C-419639-003251-46647-0.png  COVID-19  ricord   \n",
       "1  419639-001464  MIDRC-RICORD-1C-419639-001464-39871-0.png  COVID-19  ricord   \n",
       "2  419639-000918  MIDRC-RICORD-1C-419639-000918-78965-0.png  COVID-19  ricord   \n",
       "3  419639-003318  MIDRC-RICORD-1C-419639-003318-64285-0.png  COVID-19  ricord   \n",
       "4  419639-001015  MIDRC-RICORD-1C-419639-001015-81591-0.png  COVID-19  ricord   \n",
       "\n",
       "        pred       time  \n",
       "0   COVID-19  39.247878  \n",
       "1  pneumonia   6.134052  \n",
       "2   COVID-19   6.380929  \n",
       "3   COVID-19   6.666050  \n",
       "4     normal   6.107113  "
      ]
     },
     "execution_count": 2,
     "metadata": {},
     "output_type": "execute_result"
    }
   ],
   "source": [
    "# 224 model run on COVIDx\n",
    "df = pd.read_csv('/p/project/joaiml/ingolfsson1/COVID_Net/results/covidx_test_1_224_2283.2844471931458.csv')\n",
    "\n",
    "df.head()"
   ]
  },
  {
   "cell_type": "code",
   "execution_count": 3,
   "id": "dense-champagne",
   "metadata": {},
   "outputs": [
    {
     "data": {
      "text/plain": [
       "2282.926633119583"
      ]
     },
     "execution_count": 3,
     "metadata": {},
     "output_type": "execute_result"
    }
   ],
   "source": [
    "df['time'].sum()"
   ]
  },
  {
   "cell_type": "code",
   "execution_count": 5,
   "id": "incident-jacksonville",
   "metadata": {},
   "outputs": [
    {
     "data": {
      "text/plain": [
       "5.707316582798958"
      ]
     },
     "execution_count": 5,
     "metadata": {},
     "output_type": "execute_result"
    }
   ],
   "source": [
    "df['time'].mean()"
   ]
  },
  {
   "cell_type": "code",
   "execution_count": 6,
   "id": "speaking-norfolk",
   "metadata": {},
   "outputs": [
    {
     "data": {
      "text/html": [
       "<div>\n",
       "<style scoped>\n",
       "    .dataframe tbody tr th:only-of-type {\n",
       "        vertical-align: middle;\n",
       "    }\n",
       "\n",
       "    .dataframe tbody tr th {\n",
       "        vertical-align: top;\n",
       "    }\n",
       "\n",
       "    .dataframe thead th {\n",
       "        text-align: right;\n",
       "    }\n",
       "</style>\n",
       "<table border=\"1\" class=\"dataframe\">\n",
       "  <thead>\n",
       "    <tr style=\"text-align: right;\">\n",
       "      <th></th>\n",
       "      <th>id</th>\n",
       "      <th>path</th>\n",
       "      <th>condition</th>\n",
       "      <th>source</th>\n",
       "      <th>pred</th>\n",
       "      <th>time</th>\n",
       "    </tr>\n",
       "  </thead>\n",
       "  <tbody>\n",
       "    <tr>\n",
       "      <th>0</th>\n",
       "      <td>419639-003251</td>\n",
       "      <td>MIDRC-RICORD-1C-419639-003251-46647-0.png</td>\n",
       "      <td>COVID-19</td>\n",
       "      <td>ricord</td>\n",
       "      <td>COVID-19</td>\n",
       "      <td>25.159276</td>\n",
       "    </tr>\n",
       "    <tr>\n",
       "      <th>1</th>\n",
       "      <td>419639-001464</td>\n",
       "      <td>MIDRC-RICORD-1C-419639-001464-39871-0.png</td>\n",
       "      <td>COVID-19</td>\n",
       "      <td>ricord</td>\n",
       "      <td>COVID-19</td>\n",
       "      <td>19.669841</td>\n",
       "    </tr>\n",
       "    <tr>\n",
       "      <th>2</th>\n",
       "      <td>419639-000918</td>\n",
       "      <td>MIDRC-RICORD-1C-419639-000918-78965-0.png</td>\n",
       "      <td>COVID-19</td>\n",
       "      <td>ricord</td>\n",
       "      <td>COVID-19</td>\n",
       "      <td>19.113278</td>\n",
       "    </tr>\n",
       "    <tr>\n",
       "      <th>3</th>\n",
       "      <td>419639-003318</td>\n",
       "      <td>MIDRC-RICORD-1C-419639-003318-64285-0.png</td>\n",
       "      <td>COVID-19</td>\n",
       "      <td>ricord</td>\n",
       "      <td>COVID-19</td>\n",
       "      <td>19.504162</td>\n",
       "    </tr>\n",
       "    <tr>\n",
       "      <th>4</th>\n",
       "      <td>419639-001015</td>\n",
       "      <td>MIDRC-RICORD-1C-419639-001015-81591-0.png</td>\n",
       "      <td>COVID-19</td>\n",
       "      <td>ricord</td>\n",
       "      <td>COVID-19</td>\n",
       "      <td>20.033506</td>\n",
       "    </tr>\n",
       "  </tbody>\n",
       "</table>\n",
       "</div>"
      ],
      "text/plain": [
       "              id                                       path condition  source  \\\n",
       "0  419639-003251  MIDRC-RICORD-1C-419639-003251-46647-0.png  COVID-19  ricord   \n",
       "1  419639-001464  MIDRC-RICORD-1C-419639-001464-39871-0.png  COVID-19  ricord   \n",
       "2  419639-000918  MIDRC-RICORD-1C-419639-000918-78965-0.png  COVID-19  ricord   \n",
       "3  419639-003318  MIDRC-RICORD-1C-419639-003318-64285-0.png  COVID-19  ricord   \n",
       "4  419639-001015  MIDRC-RICORD-1C-419639-001015-81591-0.png  COVID-19  ricord   \n",
       "\n",
       "       pred       time  \n",
       "0  COVID-19  25.159276  \n",
       "1  COVID-19  19.669841  \n",
       "2  COVID-19  19.113278  \n",
       "3  COVID-19  19.504162  \n",
       "4  COVID-19  20.033506  "
      ]
     },
     "execution_count": 6,
     "metadata": {},
     "output_type": "execute_result"
    }
   ],
   "source": [
    "# 480 model run on COVIDx\n",
    "df = pd.read_csv('/p/project/joaiml/ingolfsson1/COVID_Net/results/covidx_test_1_480_8077.028603076935.csv')\n",
    "\n",
    "df.head()"
   ]
  },
  {
   "cell_type": "code",
   "execution_count": 7,
   "id": "mature-census",
   "metadata": {},
   "outputs": [
    {
     "data": {
      "text/plain": [
       "8076.449129581451"
      ]
     },
     "execution_count": 7,
     "metadata": {},
     "output_type": "execute_result"
    }
   ],
   "source": [
    "df['time'].sum()"
   ]
  },
  {
   "cell_type": "code",
   "execution_count": 8,
   "id": "coupled-arrest",
   "metadata": {},
   "outputs": [
    {
     "data": {
      "text/plain": [
       "20.191122823953627"
      ]
     },
     "execution_count": 8,
     "metadata": {},
     "output_type": "execute_result"
    }
   ],
   "source": [
    "df['time'].mean()"
   ]
  },
  {
   "cell_type": "code",
   "execution_count": 9,
   "id": "upset-intersection",
   "metadata": {},
   "outputs": [
    {
     "data": {
      "text/html": [
       "<div>\n",
       "<style scoped>\n",
       "    .dataframe tbody tr th:only-of-type {\n",
       "        vertical-align: middle;\n",
       "    }\n",
       "\n",
       "    .dataframe tbody tr th {\n",
       "        vertical-align: top;\n",
       "    }\n",
       "\n",
       "    .dataframe thead th {\n",
       "        text-align: right;\n",
       "    }\n",
       "</style>\n",
       "<table border=\"1\" class=\"dataframe\">\n",
       "  <thead>\n",
       "    <tr style=\"text-align: right;\">\n",
       "      <th></th>\n",
       "      <th>id</th>\n",
       "      <th>path</th>\n",
       "      <th>condition</th>\n",
       "      <th>source</th>\n",
       "      <th>pred</th>\n",
       "      <th>time</th>\n",
       "    </tr>\n",
       "  </thead>\n",
       "  <tbody>\n",
       "    <tr>\n",
       "      <th>0</th>\n",
       "      <td>ehl_train_COVID-19_0</td>\n",
       "      <td>COVID-19_02132021(8).jpg</td>\n",
       "      <td>COVID-19</td>\n",
       "      <td>ehl</td>\n",
       "      <td>normal</td>\n",
       "      <td>11.391677</td>\n",
       "    </tr>\n",
       "    <tr>\n",
       "      <th>1</th>\n",
       "      <td>ehl_train_COVID-19_1</td>\n",
       "      <td>COVID-19_02132021(10).jpg</td>\n",
       "      <td>COVID-19</td>\n",
       "      <td>ehl</td>\n",
       "      <td>COVID-19</td>\n",
       "      <td>6.778557</td>\n",
       "    </tr>\n",
       "    <tr>\n",
       "      <th>2</th>\n",
       "      <td>ehl_train_COVID-19_2</td>\n",
       "      <td>COVID-19_02132021(47).jpg</td>\n",
       "      <td>COVID-19</td>\n",
       "      <td>ehl</td>\n",
       "      <td>COVID-19</td>\n",
       "      <td>6.661425</td>\n",
       "    </tr>\n",
       "    <tr>\n",
       "      <th>3</th>\n",
       "      <td>ehl_train_COVID-19_3</td>\n",
       "      <td>covid-19-pneumonia-22-day2-pa.png</td>\n",
       "      <td>COVID-19</td>\n",
       "      <td>ehl</td>\n",
       "      <td>COVID-19</td>\n",
       "      <td>6.796732</td>\n",
       "    </tr>\n",
       "    <tr>\n",
       "      <th>4</th>\n",
       "      <td>ehl_train_COVID-19_4</td>\n",
       "      <td>8FDE8DBA-CFBD-4B4C-B1A4-6F36A93B7E87.jpeg</td>\n",
       "      <td>COVID-19</td>\n",
       "      <td>ehl</td>\n",
       "      <td>normal</td>\n",
       "      <td>6.645511</td>\n",
       "    </tr>\n",
       "  </tbody>\n",
       "</table>\n",
       "</div>"
      ],
      "text/plain": [
       "                     id                                       path condition  \\\n",
       "0  ehl_train_COVID-19_0                   COVID-19_02132021(8).jpg  COVID-19   \n",
       "1  ehl_train_COVID-19_1                  COVID-19_02132021(10).jpg  COVID-19   \n",
       "2  ehl_train_COVID-19_2                  COVID-19_02132021(47).jpg  COVID-19   \n",
       "3  ehl_train_COVID-19_3          covid-19-pneumonia-22-day2-pa.png  COVID-19   \n",
       "4  ehl_train_COVID-19_4  8FDE8DBA-CFBD-4B4C-B1A4-6F36A93B7E87.jpeg  COVID-19   \n",
       "\n",
       "  source      pred       time  \n",
       "0    ehl    normal  11.391677  \n",
       "1    ehl  COVID-19   6.778557  \n",
       "2    ehl  COVID-19   6.661425  \n",
       "3    ehl  COVID-19   6.796732  \n",
       "4    ehl    normal   6.645511  "
      ]
     },
     "execution_count": 9,
     "metadata": {},
     "output_type": "execute_result"
    }
   ],
   "source": [
    "# 224 model run on EHL\n",
    "df = pd.read_csv('/p/project/joaiml/ingolfsson1/COVID_Net/results/ehl_total_1_224_17894.631240844727.csv')\n",
    "\n",
    "df.head()"
   ]
  },
  {
   "cell_type": "code",
   "execution_count": 10,
   "id": "acute-evening",
   "metadata": {},
   "outputs": [
    {
     "data": {
      "text/plain": [
       "17891.79199028015"
      ]
     },
     "execution_count": 10,
     "metadata": {},
     "output_type": "execute_result"
    }
   ],
   "source": [
    "df['time'].sum()"
   ]
  },
  {
   "cell_type": "code",
   "execution_count": 11,
   "id": "related-marsh",
   "metadata": {},
   "outputs": [
    {
     "data": {
      "text/plain": [
       "7.762165722464274"
      ]
     },
     "execution_count": 11,
     "metadata": {},
     "output_type": "execute_result"
    }
   ],
   "source": [
    "df['time'].mean()"
   ]
  },
  {
   "cell_type": "code",
   "execution_count": null,
   "id": "architectural-attachment",
   "metadata": {},
   "outputs": [],
   "source": []
  }
 ],
 "metadata": {
  "kernelspec": {
   "display_name": "covid_kernel",
   "language": "python",
   "name": "covid_kernel"
  },
  "language_info": {
   "codemirror_mode": {
    "name": "ipython",
    "version": 3
   },
   "file_extension": ".py",
   "mimetype": "text/x-python",
   "name": "python",
   "nbconvert_exporter": "python",
   "pygments_lexer": "ipython3",
   "version": "3.6.8"
  }
 },
 "nbformat": 4,
 "nbformat_minor": 5
}
