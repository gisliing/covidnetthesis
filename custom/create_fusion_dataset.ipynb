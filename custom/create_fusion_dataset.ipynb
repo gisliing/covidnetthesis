{
 "cells": [
  {
   "cell_type": "code",
   "execution_count": 12,
   "metadata": {},
   "outputs": [],
   "source": [
    "import pandas as pd\n",
    "import numpy as np"
   ]
  },
  {
   "cell_type": "code",
   "execution_count": 13,
   "metadata": {},
   "outputs": [],
   "source": [
    "seed = 100"
   ]
  },
  {
   "cell_type": "code",
   "execution_count": 14,
   "metadata": {},
   "outputs": [],
   "source": [
    "def create_labels(train_splits, datasets):\n",
    "    \n",
    "    ehl = pd.read_csv('labels/base_ehl_edited.txt', sep=\"GGGG\", header=None)\n",
    "    ehl.columns = [\"line\"]\n",
    "    ehl['type'] = 'train'\n",
    "    \n",
    "    ehl['source'] = ehl['line'].apply(lambda x: x.split(' ')[-1])\n",
    "    ehl['condition'] = ehl['line'].apply(lambda x: x.split(' ')[-2])\n",
    "    ehl['path'] = ehl['line'].apply(lambda x: x.split(' ')[-3])\n",
    "    ehl['id'] = ehl['source'].str.cat(ehl['path'])\n",
    "    \n",
    "    fusion = pd.read_csv('labels/base_fusion.txt', sep=\"GGGG\", header=None)\n",
    "    fusion.columns = [\"line\"]\n",
    "    fusion['type'] = 'test'\n",
    "    \n",
    "    fusion['source'] = fusion['line'].apply(lambda x: x.split(' ')[-1])\n",
    "    fusion['condition'] = fusion['line'].apply(lambda x: x.split(' ')[-2])\n",
    "    fusion['path'] = fusion['line'].apply(lambda x: x.split(' ')[-3])\n",
    "    fusion['id'] = fusion['source'].str.cat(fusion['path'])\n",
    "    \n",
    "    for dataset in datasets:\n",
    "        for train_split in train_splits:\n",
    "            if dataset == 'fusion':\n",
    "                proc = fusion[['id', 'path', 'condition']]\n",
    "            else:\n",
    "                proc = ehl[['id', 'path', 'condition']]\n",
    "            train = proc.sample(frac=train_split, random_state=seed)\n",
    "            test = pd.concat([train,proc]).drop_duplicates(keep=False)\n",
    "            train.to_csv('labels/train_{}_{}.txt'.format(dataset, train_split), sep=' ', index=False, header=None)\n",
    "            test.to_csv('labels/test_{}_{}.txt'.format(dataset, train_split), sep=' ', index=False, header=None)\n",
    "    return 0"
   ]
  },
  {
   "cell_type": "code",
   "execution_count": 15,
   "metadata": {},
   "outputs": [],
   "source": [
    "def create_tasks(train_splits, datasets):\n",
    "    length = len(train_splits) * len(datasets)\n",
    "    df = pd.DataFrame({\n",
    "        'model': np.full(length, 'models/COVIDNet-CXR-Gisli'),\n",
    "        'labels': np.array(['{}_{}'.format(j,i) for i in train_splits for j in datasets]),\n",
    "        'classweights_normal': np.ones(length),\n",
    "        'classweights_pneumonia': np.ones(length),\n",
    "        'classweights_covid19': np.ones(length),\n",
    "        'covid_percent': np.full(length, 0.5)\n",
    "    })\n",
    "    \n",
    "    return 0"
   ]
  },
  {
   "cell_type": "code",
   "execution_count": 16,
   "metadata": {},
   "outputs": [
    {
     "name": "stderr",
     "output_type": "stream",
     "text": [
      "/Users/gisli/opt/anaconda3/lib/python3.7/site-packages/ipykernel_launcher.py:3: ParserWarning: Falling back to the 'python' engine because the 'c' engine does not support regex separators (separators > 1 char and different from '\\s+' are interpreted as regex); you can avoid this warning by specifying engine='python'.\n",
      "  This is separate from the ipykernel package so we can avoid doing imports until\n",
      "/Users/gisli/opt/anaconda3/lib/python3.7/site-packages/ipykernel_launcher.py:12: ParserWarning: Falling back to the 'python' engine because the 'c' engine does not support regex separators (separators > 1 char and different from '\\s+' are interpreted as regex); you can avoid this warning by specifying engine='python'.\n",
      "  if sys.path[0] == '':\n"
     ]
    },
    {
     "data": {
      "text/plain": [
       "0"
      ]
     },
     "execution_count": 16,
     "metadata": {},
     "output_type": "execute_result"
    }
   ],
   "source": [
    "train_splits = np.array([0.9, 0.8, 0.7])\n",
    "datasets = np.array(['ehl_edited', 'fusion'])\n",
    "\n",
    "create_labels(train_splits, datasets)\n",
    "create_tasks(train_splits, datasets)"
   ]
  },
  {
   "cell_type": "code",
   "execution_count": 40,
   "metadata": {},
   "outputs": [],
   "source": [
    "train_splits = np.array([0.9, 0.8, 0.7])\n",
    "datasets = np.array(['ehl_edited', 'fusion'])\n",
    "length = len(train_splits) * len(datasets)\n",
    "\n",
    "df = pd.DataFrame({\n",
    "    'model': np.full(length, 'models/COVIDNet-CXR-Gisli'),\n",
    "    'labels': np.array(['{}_{}'.format(j,i) for i in train_splits for j in datasets]),\n",
    "    'classweights_normal': np.ones(length),\n",
    "    'classweights_pneumonia': np.ones(length),\n",
    "    'classweights_covid19': np.ones(length),\n",
    "    'covid_percent': np.full(length, 0.5)\n",
    "})"
   ]
  },
  {
   "cell_type": "code",
   "execution_count": 41,
   "metadata": {},
   "outputs": [
    {
     "data": {
      "text/html": [
       "<div>\n",
       "<style scoped>\n",
       "    .dataframe tbody tr th:only-of-type {\n",
       "        vertical-align: middle;\n",
       "    }\n",
       "\n",
       "    .dataframe tbody tr th {\n",
       "        vertical-align: top;\n",
       "    }\n",
       "\n",
       "    .dataframe thead th {\n",
       "        text-align: right;\n",
       "    }\n",
       "</style>\n",
       "<table border=\"1\" class=\"dataframe\">\n",
       "  <thead>\n",
       "    <tr style=\"text-align: right;\">\n",
       "      <th></th>\n",
       "      <th>model</th>\n",
       "      <th>labels</th>\n",
       "      <th>classweights_normal</th>\n",
       "      <th>classweights_pneumonia</th>\n",
       "      <th>classweights_covid19</th>\n",
       "      <th>covid_percent</th>\n",
       "    </tr>\n",
       "  </thead>\n",
       "  <tbody>\n",
       "    <tr>\n",
       "      <td>0</td>\n",
       "      <td>models/COVIDNet-CXR-Gisli</td>\n",
       "      <td>ehl_edited_0.9</td>\n",
       "      <td>1.0</td>\n",
       "      <td>1.0</td>\n",
       "      <td>1.0</td>\n",
       "      <td>0.5</td>\n",
       "    </tr>\n",
       "    <tr>\n",
       "      <td>1</td>\n",
       "      <td>models/COVIDNet-CXR-Gisli</td>\n",
       "      <td>fusion_0.9</td>\n",
       "      <td>1.0</td>\n",
       "      <td>1.0</td>\n",
       "      <td>1.0</td>\n",
       "      <td>0.5</td>\n",
       "    </tr>\n",
       "    <tr>\n",
       "      <td>2</td>\n",
       "      <td>models/COVIDNet-CXR-Gisli</td>\n",
       "      <td>ehl_edited_0.8</td>\n",
       "      <td>1.0</td>\n",
       "      <td>1.0</td>\n",
       "      <td>1.0</td>\n",
       "      <td>0.5</td>\n",
       "    </tr>\n",
       "    <tr>\n",
       "      <td>3</td>\n",
       "      <td>models/COVIDNet-CXR-Gisli</td>\n",
       "      <td>fusion_0.8</td>\n",
       "      <td>1.0</td>\n",
       "      <td>1.0</td>\n",
       "      <td>1.0</td>\n",
       "      <td>0.5</td>\n",
       "    </tr>\n",
       "    <tr>\n",
       "      <td>4</td>\n",
       "      <td>models/COVIDNet-CXR-Gisli</td>\n",
       "      <td>ehl_edited_0.7</td>\n",
       "      <td>1.0</td>\n",
       "      <td>1.0</td>\n",
       "      <td>1.0</td>\n",
       "      <td>0.5</td>\n",
       "    </tr>\n",
       "    <tr>\n",
       "      <td>5</td>\n",
       "      <td>models/COVIDNet-CXR-Gisli</td>\n",
       "      <td>fusion_0.7</td>\n",
       "      <td>1.0</td>\n",
       "      <td>1.0</td>\n",
       "      <td>1.0</td>\n",
       "      <td>0.5</td>\n",
       "    </tr>\n",
       "  </tbody>\n",
       "</table>\n",
       "</div>"
      ],
      "text/plain": [
       "                       model          labels  classweights_normal  \\\n",
       "0  models/COVIDNet-CXR-Gisli  ehl_edited_0.9                  1.0   \n",
       "1  models/COVIDNet-CXR-Gisli      fusion_0.9                  1.0   \n",
       "2  models/COVIDNet-CXR-Gisli  ehl_edited_0.8                  1.0   \n",
       "3  models/COVIDNet-CXR-Gisli      fusion_0.8                  1.0   \n",
       "4  models/COVIDNet-CXR-Gisli  ehl_edited_0.7                  1.0   \n",
       "5  models/COVIDNet-CXR-Gisli      fusion_0.7                  1.0   \n",
       "\n",
       "   classweights_pneumonia  classweights_covid19  covid_percent  \n",
       "0                     1.0                   1.0            0.5  \n",
       "1                     1.0                   1.0            0.5  \n",
       "2                     1.0                   1.0            0.5  \n",
       "3                     1.0                   1.0            0.5  \n",
       "4                     1.0                   1.0            0.5  \n",
       "5                     1.0                   1.0            0.5  "
      ]
     },
     "execution_count": 41,
     "metadata": {},
     "output_type": "execute_result"
    }
   ],
   "source": [
    "df"
   ]
  },
  {
   "cell_type": "code",
   "execution_count": 43,
   "metadata": {},
   "outputs": [],
   "source": [
    "df.to_csv('training_joblist.csv', index=False)"
   ]
  },
  {
   "cell_type": "code",
   "execution_count": 45,
   "metadata": {},
   "outputs": [
    {
     "data": {
      "text/html": [
       "<div>\n",
       "<style scoped>\n",
       "    .dataframe tbody tr th:only-of-type {\n",
       "        vertical-align: middle;\n",
       "    }\n",
       "\n",
       "    .dataframe tbody tr th {\n",
       "        vertical-align: top;\n",
       "    }\n",
       "\n",
       "    .dataframe thead th {\n",
       "        text-align: right;\n",
       "    }\n",
       "</style>\n",
       "<table border=\"1\" class=\"dataframe\">\n",
       "  <thead>\n",
       "    <tr style=\"text-align: right;\">\n",
       "      <th></th>\n",
       "      <th>model</th>\n",
       "      <th>labels</th>\n",
       "      <th>classweights_normal</th>\n",
       "      <th>classweights_pneumonia</th>\n",
       "      <th>classweights_covid19</th>\n",
       "      <th>covid_percent</th>\n",
       "    </tr>\n",
       "  </thead>\n",
       "  <tbody>\n",
       "    <tr>\n",
       "      <td>0</td>\n",
       "      <td>models/COVIDNet-CXR-Gisli</td>\n",
       "      <td>ehl_edited_0.9</td>\n",
       "      <td>1.0</td>\n",
       "      <td>1.0</td>\n",
       "      <td>1.0</td>\n",
       "      <td>0.5</td>\n",
       "    </tr>\n",
       "    <tr>\n",
       "      <td>1</td>\n",
       "      <td>models/COVIDNet-CXR-Gisli</td>\n",
       "      <td>fusion_0.9</td>\n",
       "      <td>1.0</td>\n",
       "      <td>1.0</td>\n",
       "      <td>1.0</td>\n",
       "      <td>0.5</td>\n",
       "    </tr>\n",
       "    <tr>\n",
       "      <td>2</td>\n",
       "      <td>models/COVIDNet-CXR-Gisli</td>\n",
       "      <td>ehl_edited_0.8</td>\n",
       "      <td>1.0</td>\n",
       "      <td>1.0</td>\n",
       "      <td>1.0</td>\n",
       "      <td>0.5</td>\n",
       "    </tr>\n",
       "    <tr>\n",
       "      <td>3</td>\n",
       "      <td>models/COVIDNet-CXR-Gisli</td>\n",
       "      <td>fusion_0.8</td>\n",
       "      <td>1.0</td>\n",
       "      <td>1.0</td>\n",
       "      <td>1.0</td>\n",
       "      <td>0.5</td>\n",
       "    </tr>\n",
       "    <tr>\n",
       "      <td>4</td>\n",
       "      <td>models/COVIDNet-CXR-Gisli</td>\n",
       "      <td>ehl_edited_0.7</td>\n",
       "      <td>1.0</td>\n",
       "      <td>1.0</td>\n",
       "      <td>1.0</td>\n",
       "      <td>0.5</td>\n",
       "    </tr>\n",
       "    <tr>\n",
       "      <td>5</td>\n",
       "      <td>models/COVIDNet-CXR-Gisli</td>\n",
       "      <td>fusion_0.7</td>\n",
       "      <td>1.0</td>\n",
       "      <td>1.0</td>\n",
       "      <td>1.0</td>\n",
       "      <td>0.5</td>\n",
       "    </tr>\n",
       "  </tbody>\n",
       "</table>\n",
       "</div>"
      ],
      "text/plain": [
       "                       model          labels  classweights_normal  \\\n",
       "0  models/COVIDNet-CXR-Gisli  ehl_edited_0.9                  1.0   \n",
       "1  models/COVIDNet-CXR-Gisli      fusion_0.9                  1.0   \n",
       "2  models/COVIDNet-CXR-Gisli  ehl_edited_0.8                  1.0   \n",
       "3  models/COVIDNet-CXR-Gisli      fusion_0.8                  1.0   \n",
       "4  models/COVIDNet-CXR-Gisli  ehl_edited_0.7                  1.0   \n",
       "5  models/COVIDNet-CXR-Gisli      fusion_0.7                  1.0   \n",
       "\n",
       "   classweights_pneumonia  classweights_covid19  covid_percent  \n",
       "0                     1.0                   1.0            0.5  \n",
       "1                     1.0                   1.0            0.5  \n",
       "2                     1.0                   1.0            0.5  \n",
       "3                     1.0                   1.0            0.5  \n",
       "4                     1.0                   1.0            0.5  \n",
       "5                     1.0                   1.0            0.5  "
      ]
     },
     "execution_count": 45,
     "metadata": {},
     "output_type": "execute_result"
    }
   ],
   "source": [
    "df = pd.read_csv('training_joblist.csv')\n",
    "\n",
    "df"
   ]
  },
  {
   "cell_type": "code",
   "execution_count": 18,
   "metadata": {},
   "outputs": [
    {
     "data": {
      "text/plain": [
       "'train_ehl_edited.txt'"
      ]
     },
     "execution_count": 18,
     "metadata": {},
     "output_type": "execute_result"
    }
   ],
   "source": [
    "'train_{}.txt'.format(df.iloc[0]['labels'])"
   ]
  },
  {
   "cell_type": "code",
   "execution_count": 30,
   "metadata": {},
   "outputs": [
    {
     "data": {
      "text/plain": [
       "array(['ehl_edited_0.9', 'fusion_0.9', 'ehl_edited_0.8', 'fusion_0.8',\n",
       "       'ehl_edited_0.7', 'fusion_0.7'], dtype='<U14')"
      ]
     },
     "execution_count": 30,
     "metadata": {},
     "output_type": "execute_result"
    }
   ],
   "source": [
    "train_splits = np.array([0.9, 0.8, 0.7])\n",
    "datasets = np.array(['ehl_edited', 'fusion'])\n",
    "\n",
    "np.array(['{}_{}'.format(j,i) for i in train_splits for j in datasets])"
   ]
  },
  {
   "cell_type": "code",
   "execution_count": 35,
   "metadata": {},
   "outputs": [
    {
     "data": {
      "text/plain": [
       "6"
      ]
     },
     "execution_count": 35,
     "metadata": {},
     "output_type": "execute_result"
    }
   ],
   "source": [
    "length"
   ]
  },
  {
   "cell_type": "code",
   "execution_count": 1,
   "metadata": {},
   "outputs": [
    {
     "name": "stderr",
     "output_type": "stream",
     "text": [
      "/Users/gisli/opt/anaconda3/lib/python3.7/site-packages/ipykernel_launcher.py:3: ParserWarning: Falling back to the 'python' engine because the 'c' engine does not support regex separators (separators > 1 char and different from '\\s+' are interpreted as regex); you can avoid this warning by specifying engine='python'.\n",
      "  This is separate from the ipykernel package so we can avoid doing imports until\n",
      "/Users/gisli/opt/anaconda3/lib/python3.7/site-packages/numpy/core/fromnumeric.py:87: VisibleDeprecationWarning: Creating an ndarray from ragged nested sequences (which is a list-or-tuple of lists-or-tuples-or ndarrays with different lengths or shapes) is deprecated. If you meant to do this, you must specify 'dtype=object' when creating the ndarray.\n",
      "  return ufunc.reduce(obj, axis, dtype, out, **passkwargs)\n"
     ]
    }
   ],
   "source": [
    "import pandas as pd\n",
    "\n",
    "df = pd.read_csv('labels/test_ehl_edited_0.8.txt', sep=\"GGGG\", header=None)\n",
    "df.columns = [\"line\"]\n",
    "#df['type'] = 'train'\n",
    "\n",
    "#df['source'] = df['line'].apply(lambda x: x.split(' ')[-2])\n",
    "df['condition'] = df['line'].apply(lambda x: x.split(' ')[-1])\n",
    "df['path'] = df['line'].apply(lambda x: x.split(' ')[-3])\n",
    "df['id'] = df['condition'].str.cat(df['path'])"
   ]
  },
  {
   "cell_type": "code",
   "execution_count": 2,
   "metadata": {},
   "outputs": [
    {
     "data": {
      "text/html": [
       "<div>\n",
       "<style scoped>\n",
       "    .dataframe tbody tr th:only-of-type {\n",
       "        vertical-align: middle;\n",
       "    }\n",
       "\n",
       "    .dataframe tbody tr th {\n",
       "        vertical-align: top;\n",
       "    }\n",
       "\n",
       "    .dataframe thead th {\n",
       "        text-align: right;\n",
       "    }\n",
       "</style>\n",
       "<table border=\"1\" class=\"dataframe\">\n",
       "  <thead>\n",
       "    <tr style=\"text-align: right;\">\n",
       "      <th></th>\n",
       "      <th>line</th>\n",
       "      <th>condition</th>\n",
       "      <th>path</th>\n",
       "      <th>id</th>\n",
       "    </tr>\n",
       "  </thead>\n",
       "  <tbody>\n",
       "    <tr>\n",
       "      <td>326</td>\n",
       "      <td>ehlpatient06732-study1-view1_frontal.jpg patie...</td>\n",
       "      <td>normal</td>\n",
       "      <td>ehlpatient06732-study1-view1_frontal.jpg</td>\n",
       "      <td>normalehlpatient06732-study1-view1_frontal.jpg</td>\n",
       "    </tr>\n",
       "    <tr>\n",
       "      <td>59</td>\n",
       "      <td>ehlNoFinding-patient16184-study1-view1_frontal...</td>\n",
       "      <td>normal</td>\n",
       "      <td>ehlNoFinding-patient16184-study1-view1_frontal...</td>\n",
       "      <td>normalehlNoFinding-patient16184-study1-view1_f...</td>\n",
       "    </tr>\n",
       "    <tr>\n",
       "      <td>58</td>\n",
       "      <td>ehlNoFinding-patient16629-study1-view1_frontal...</td>\n",
       "      <td>normal</td>\n",
       "      <td>ehlNoFinding-patient16629-study1-view1_frontal...</td>\n",
       "      <td>normalehlNoFinding-patient16629-study1-view1_f...</td>\n",
       "    </tr>\n",
       "    <tr>\n",
       "      <td>117</td>\n",
       "      <td>ehlpatient07254-study1-view1_frontal.jpg patie...</td>\n",
       "      <td>normal</td>\n",
       "      <td>ehlpatient07254-study1-view1_frontal.jpg</td>\n",
       "      <td>normalehlpatient07254-study1-view1_frontal.jpg</td>\n",
       "    </tr>\n",
       "    <tr>\n",
       "      <td>214</td>\n",
       "      <td>ehlpatient00608-study1-view1_frontal.jpg patie...</td>\n",
       "      <td>normal</td>\n",
       "      <td>ehlpatient00608-study1-view1_frontal.jpg</td>\n",
       "      <td>normalehlpatient00608-study1-view1_frontal.jpg</td>\n",
       "    </tr>\n",
       "  </tbody>\n",
       "</table>\n",
       "</div>"
      ],
      "text/plain": [
       "                                                  line condition  \\\n",
       "326  ehlpatient06732-study1-view1_frontal.jpg patie...    normal   \n",
       "59   ehlNoFinding-patient16184-study1-view1_frontal...    normal   \n",
       "58   ehlNoFinding-patient16629-study1-view1_frontal...    normal   \n",
       "117  ehlpatient07254-study1-view1_frontal.jpg patie...    normal   \n",
       "214  ehlpatient00608-study1-view1_frontal.jpg patie...    normal   \n",
       "\n",
       "                                                  path  \\\n",
       "326           ehlpatient06732-study1-view1_frontal.jpg   \n",
       "59   ehlNoFinding-patient16184-study1-view1_frontal...   \n",
       "58   ehlNoFinding-patient16629-study1-view1_frontal...   \n",
       "117           ehlpatient07254-study1-view1_frontal.jpg   \n",
       "214           ehlpatient00608-study1-view1_frontal.jpg   \n",
       "\n",
       "                                                    id  \n",
       "326     normalehlpatient06732-study1-view1_frontal.jpg  \n",
       "59   normalehlNoFinding-patient16184-study1-view1_f...  \n",
       "58   normalehlNoFinding-patient16629-study1-view1_f...  \n",
       "117     normalehlpatient07254-study1-view1_frontal.jpg  \n",
       "214     normalehlpatient00608-study1-view1_frontal.jpg  "
      ]
     },
     "execution_count": 2,
     "metadata": {},
     "output_type": "execute_result"
    }
   ],
   "source": [
    "df.sample(5)"
   ]
  },
  {
   "cell_type": "code",
   "execution_count": 3,
   "metadata": {},
   "outputs": [
    {
     "data": {
      "text/plain": [
       "normal       0.854875\n",
       "COVID-19     0.086168\n",
       "pneumonia    0.058957\n",
       "Name: condition, dtype: float64"
      ]
     },
     "execution_count": 3,
     "metadata": {},
     "output_type": "execute_result"
    }
   ],
   "source": [
    "df['condition'].value_counts(normalize=True)"
   ]
  },
  {
   "cell_type": "code",
   "execution_count": 4,
   "metadata": {},
   "outputs": [
    {
     "data": {
      "text/plain": [
       "normal       377\n",
       "COVID-19      38\n",
       "pneumonia     26\n",
       "Name: condition, dtype: int64"
      ]
     },
     "execution_count": 4,
     "metadata": {},
     "output_type": "execute_result"
    }
   ],
   "source": [
    "df['condition'].value_counts()"
   ]
  },
  {
   "cell_type": "code",
   "execution_count": 1,
   "metadata": {},
   "outputs": [
    {
     "data": {
      "text/plain": [
       "2"
      ]
     },
     "execution_count": 1,
     "metadata": {},
     "output_type": "execute_result"
    }
   ],
   "source": [
    "1+1"
   ]
  },
  {
   "cell_type": "code",
   "execution_count": 19,
   "metadata": {},
   "outputs": [
    {
     "name": "stderr",
     "output_type": "stream",
     "text": [
      "/Users/gisli/opt/anaconda3/lib/python3.7/site-packages/ipykernel_launcher.py:3: ParserWarning: Falling back to the 'python' engine because the 'c' engine does not support regex separators (separators > 1 char and different from '\\s+' are interpreted as regex); you can avoid this warning by specifying engine='python'.\n",
      "  This is separate from the ipykernel package so we can avoid doing imports until\n"
     ]
    }
   ],
   "source": [
    "import pandas as pd\n",
    "\n",
    "df = pd.read_csv('labels/test_ehl_edited_0.8.txt', sep=\"GGGG\", header=None)\n",
    "df.columns = [\"line\"]\n",
    "#df['type'] = 'train'\n",
    "\n",
    "#df['source'] = df['line'].apply(lambda x: x.split(' ')[-2])\n",
    "\n",
    "df['condition'] = df['line'].apply(lambda x: x.split(' ')[-1])\n",
    "df['path'] = df['line'].apply(lambda x: x.split(' ')[-2])\n",
    "df['id'] = df['condition'].str.cat(df['path'])"
   ]
  },
  {
   "cell_type": "code",
   "execution_count": 20,
   "metadata": {},
   "outputs": [
    {
     "data": {
      "text/html": [
       "<div>\n",
       "<style scoped>\n",
       "    .dataframe tbody tr th:only-of-type {\n",
       "        vertical-align: middle;\n",
       "    }\n",
       "\n",
       "    .dataframe tbody tr th {\n",
       "        vertical-align: top;\n",
       "    }\n",
       "\n",
       "    .dataframe thead th {\n",
       "        text-align: right;\n",
       "    }\n",
       "</style>\n",
       "<table border=\"1\" class=\"dataframe\">\n",
       "  <thead>\n",
       "    <tr style=\"text-align: right;\">\n",
       "      <th></th>\n",
       "      <th>line</th>\n",
       "      <th>condition</th>\n",
       "      <th>path</th>\n",
       "      <th>id</th>\n",
       "    </tr>\n",
       "  </thead>\n",
       "  <tbody>\n",
       "    <tr>\n",
       "      <td>0</td>\n",
       "      <td>ehlCOVID-19_02132021(8).jpg COVID-19_02132021(...</td>\n",
       "      <td>COVID-19</td>\n",
       "      <td>COVID-19_02132021(8).jpg</td>\n",
       "      <td>COVID-19COVID-19_02132021(8).jpg</td>\n",
       "    </tr>\n",
       "    <tr>\n",
       "      <td>1</td>\n",
       "      <td>ehlCOVID-19_02132021(47).jpg COVID-19_02132021...</td>\n",
       "      <td>COVID-19</td>\n",
       "      <td>COVID-19_02132021(47).jpg</td>\n",
       "      <td>COVID-19COVID-19_02132021(47).jpg</td>\n",
       "    </tr>\n",
       "    <tr>\n",
       "      <td>2</td>\n",
       "      <td>ehl4-x-day4.jpg 4-x-day4.jpg COVID-19</td>\n",
       "      <td>COVID-19</td>\n",
       "      <td>4-x-day4.jpg</td>\n",
       "      <td>COVID-194-x-day4.jpg</td>\n",
       "    </tr>\n",
       "    <tr>\n",
       "      <td>3</td>\n",
       "      <td>ehlCOVID-19_02132021(43).jpg COVID-19_02132021...</td>\n",
       "      <td>COVID-19</td>\n",
       "      <td>COVID-19_02132021(43).jpg</td>\n",
       "      <td>COVID-19COVID-19_02132021(43).jpg</td>\n",
       "    </tr>\n",
       "    <tr>\n",
       "      <td>4</td>\n",
       "      <td>ehlCOVID-1912132020(76).jpg COVID-1912132020(7...</td>\n",
       "      <td>COVID-19</td>\n",
       "      <td>COVID-1912132020(76).jpg</td>\n",
       "      <td>COVID-19COVID-1912132020(76).jpg</td>\n",
       "    </tr>\n",
       "  </tbody>\n",
       "</table>\n",
       "</div>"
      ],
      "text/plain": [
       "                                                line condition  \\\n",
       "0  ehlCOVID-19_02132021(8).jpg COVID-19_02132021(...  COVID-19   \n",
       "1  ehlCOVID-19_02132021(47).jpg COVID-19_02132021...  COVID-19   \n",
       "2              ehl4-x-day4.jpg 4-x-day4.jpg COVID-19  COVID-19   \n",
       "3  ehlCOVID-19_02132021(43).jpg COVID-19_02132021...  COVID-19   \n",
       "4  ehlCOVID-1912132020(76).jpg COVID-1912132020(7...  COVID-19   \n",
       "\n",
       "                        path                                 id  \n",
       "0   COVID-19_02132021(8).jpg   COVID-19COVID-19_02132021(8).jpg  \n",
       "1  COVID-19_02132021(47).jpg  COVID-19COVID-19_02132021(47).jpg  \n",
       "2               4-x-day4.jpg               COVID-194-x-day4.jpg  \n",
       "3  COVID-19_02132021(43).jpg  COVID-19COVID-19_02132021(43).jpg  \n",
       "4   COVID-1912132020(76).jpg   COVID-19COVID-1912132020(76).jpg  "
      ]
     },
     "execution_count": 20,
     "metadata": {},
     "output_type": "execute_result"
    }
   ],
   "source": [
    "df.head()"
   ]
  },
  {
   "cell_type": "code",
   "execution_count": 21,
   "metadata": {},
   "outputs": [],
   "source": [
    "df['source'] = 'fusion'\n",
    "df['pred'] = 'unknown'\n",
    "df['time'] = 'unknown'"
   ]
  },
  {
   "cell_type": "code",
   "execution_count": 22,
   "metadata": {},
   "outputs": [],
   "source": [
    "df.to_csv('results/test_ehl_edited_base.csv', sep=',', header=True, index=False, columns=['id', 'path', 'condition', 'source', 'pred', 'time'])"
   ]
  },
  {
   "cell_type": "code",
   "execution_count": 23,
   "metadata": {},
   "outputs": [
    {
     "data": {
      "text/plain": [
       "(441, 7)"
      ]
     },
     "execution_count": 23,
     "metadata": {},
     "output_type": "execute_result"
    }
   ],
   "source": [
    "df.shape"
   ]
  },
  {
   "cell_type": "code",
   "execution_count": null,
   "metadata": {},
   "outputs": [],
   "source": [
    "# id,path,condition,source,split,pred,time"
   ]
  }
 ],
 "metadata": {
  "kernelspec": {
   "display_name": "Python 3",
   "language": "python",
   "name": "python3"
  },
  "language_info": {
   "codemirror_mode": {
    "name": "ipython",
    "version": 3
   },
   "file_extension": ".py",
   "mimetype": "text/x-python",
   "name": "python",
   "nbconvert_exporter": "python",
   "pygments_lexer": "ipython3",
   "version": "3.7.4"
  }
 },
 "nbformat": 4,
 "nbformat_minor": 4
}
